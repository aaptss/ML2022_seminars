{
 "cells": [
  {
   "cell_type": "markdown",
   "metadata": {
    "colab_type": "text",
    "id": "view-in-github"
   },
   "source": [
    "<a href=\"https://colab.research.google.com/github/adasegroup/ML2022_seminars/blob/master/seminar3/seminar03-solution.ipynb\" target=\"_parent\"><img src=\"https://colab.research.google.com/assets/colab-badge.svg\" alt=\"Open In Colab\"/></a>"
   ]
  },
  {
   "cell_type": "markdown",
   "metadata": {
    "colab_type": "text",
    "id": "A7TSOzPKRgtT"
   },
   "source": [
    "# Measure quality of a classification model\n",
    "\n",
    "This notebook explains how to measure quality of a classification machine learning model.\n",
    "We provide definitions for various quality measures and try to find out if they are suitable or not for a particular machine learning classification problem.\n",
    "\n",
    "The data is a subsample from the kaggle comptetion \"Give me some credit\"\n",
    "https://www.kaggle.com/c/GiveMeSomeCredit#description"
   ]
  },
  {
   "cell_type": "code",
   "execution_count": 1,
   "metadata": {
    "_cell_guid": "cfdaacbc-23a3-423d-8d4d-120939ac7383",
    "colab": {},
    "colab_type": "code",
    "id": "h72h_c_GRgtW"
   },
   "outputs": [],
   "source": [
    "# Imports\n",
    "\n",
    "# data processing tools: pandas and numpy\n",
    "import numpy as np\n",
    "import pandas as pd\n",
    "\n",
    "# visualization tools: matplotlib, seaborn\n",
    "import matplotlib.pyplot as plt\n",
    "import seaborn as sns\n",
    "sns.set_style('whitegrid')\n",
    "%matplotlib inline\n",
    "\n",
    "# machine learning tools: various methods from scikit-learn\n",
    "from sklearn.tree import DecisionTreeClassifier\n",
    "from sklearn.neighbors import KNeighborsClassifier\n",
    "from sklearn.metrics import confusion_matrix, roc_curve, precision_recall_curve, auc\n",
    "from sklearn.metrics import f1_score, accuracy_score, average_precision_score"
   ]
  },
  {
   "cell_type": "markdown",
   "metadata": {
    "colab_type": "text",
    "id": "q6JGwTssRgtc"
   },
   "source": [
    "# Load data"
   ]
  },
  {
   "cell_type": "code",
   "execution_count": 2,
   "metadata": {
    "_cell_guid": "3ab4c525-a5cb-4183-9468-c1dd005c4c78",
    "colab": {},
    "colab_type": "code",
    "id": "oCQ791asRgte"
   },
   "outputs": [],
   "source": [
    "# load the data\n",
    "training_data = pd.read_csv('https://raw.githubusercontent.com/adasegroup/ML2022_seminars/master/seminar3/credit/training_data.csv')\n",
    "test_data = pd.read_csv('https://raw.githubusercontent.com/adasegroup/ML2022_seminars/master/seminar3/credit/test_data.csv')"
   ]
  },
  {
   "cell_type": "markdown",
   "metadata": {
    "colab_type": "text",
    "id": "ka4pA7SYRgtj"
   },
   "source": [
    "See some technical info about data"
   ]
  },
  {
   "cell_type": "code",
   "execution_count": 3,
   "metadata": {
    "colab": {},
    "colab_type": "code",
    "id": "i4V3veR0Rgtk"
   },
   "outputs": [
    {
     "name": "stdout",
     "output_type": "stream",
     "text": [
      "<class 'pandas.core.frame.DataFrame'>\n",
      "RangeIndex: 5001 entries, 0 to 5000\n",
      "Data columns (total 11 columns):\n",
      " #   Column                                Non-Null Count  Dtype  \n",
      "---  ------                                --------------  -----  \n",
      " 0   SeriousDlqin2yrs                      5001 non-null   int64  \n",
      " 1   RevolvingUtilizationOfUnsecuredLines  5001 non-null   float64\n",
      " 2   age                                   5001 non-null   int64  \n",
      " 3   NumberOfTime30-59DaysPastDueNotWorse  5001 non-null   int64  \n",
      " 4   DebtRatio                             5001 non-null   float64\n",
      " 5   MonthlyIncome                         4031 non-null   float64\n",
      " 6   NumberOfOpenCreditLinesAndLoans       5001 non-null   int64  \n",
      " 7   NumberOfTimes90DaysLate               5001 non-null   int64  \n",
      " 8   NumberRealEstateLoansOrLines          5001 non-null   int64  \n",
      " 9   NumberOfTime60-89DaysPastDueNotWorse  5001 non-null   int64  \n",
      " 10  NumberOfDependents                    4859 non-null   float64\n",
      "dtypes: float64(4), int64(7)\n",
      "memory usage: 429.9 KB\n"
     ]
    }
   ],
   "source": [
    "# print information about the data\n",
    "training_data.info(verbose=True)"
   ]
  },
  {
   "cell_type": "markdown",
   "metadata": {
    "colab_type": "text",
    "id": "-nRKynmNRgtp"
   },
   "source": [
    "Let's look at some general statistics of data:\n",
    "* **count** -- number of not `NaN` values;\n",
    "* **mean**, **std** -- mean and standard deviation;\n",
    "* other -- minimal, maximal values, quantiles."
   ]
  },
  {
   "cell_type": "code",
   "execution_count": 4,
   "metadata": {
    "colab": {},
    "colab_type": "code",
    "id": "25EOI00gRgtq"
   },
   "outputs": [
    {
     "data": {
      "text/html": [
       "<div>\n",
       "<style scoped>\n",
       "    .dataframe tbody tr th:only-of-type {\n",
       "        vertical-align: middle;\n",
       "    }\n",
       "\n",
       "    .dataframe tbody tr th {\n",
       "        vertical-align: top;\n",
       "    }\n",
       "\n",
       "    .dataframe thead th {\n",
       "        text-align: right;\n",
       "    }\n",
       "</style>\n",
       "<table border=\"1\" class=\"dataframe\">\n",
       "  <thead>\n",
       "    <tr style=\"text-align: right;\">\n",
       "      <th></th>\n",
       "      <th>count</th>\n",
       "      <th>mean</th>\n",
       "      <th>std</th>\n",
       "      <th>min</th>\n",
       "      <th>25%</th>\n",
       "      <th>50%</th>\n",
       "      <th>75%</th>\n",
       "      <th>max</th>\n",
       "    </tr>\n",
       "  </thead>\n",
       "  <tbody>\n",
       "    <tr>\n",
       "      <th>SeriousDlqin2yrs</th>\n",
       "      <td>5001.0</td>\n",
       "      <td>0.060988</td>\n",
       "      <td>0.239332</td>\n",
       "      <td>0.0</td>\n",
       "      <td>0.000000</td>\n",
       "      <td>0.000000</td>\n",
       "      <td>0.000000</td>\n",
       "      <td>1.0</td>\n",
       "    </tr>\n",
       "    <tr>\n",
       "      <th>RevolvingUtilizationOfUnsecuredLines</th>\n",
       "      <td>5001.0</td>\n",
       "      <td>3.842957</td>\n",
       "      <td>117.415101</td>\n",
       "      <td>0.0</td>\n",
       "      <td>0.030053</td>\n",
       "      <td>0.163463</td>\n",
       "      <td>0.556134</td>\n",
       "      <td>6324.0</td>\n",
       "    </tr>\n",
       "    <tr>\n",
       "      <th>age</th>\n",
       "      <td>5001.0</td>\n",
       "      <td>52.128374</td>\n",
       "      <td>14.907257</td>\n",
       "      <td>21.0</td>\n",
       "      <td>41.000000</td>\n",
       "      <td>52.000000</td>\n",
       "      <td>63.000000</td>\n",
       "      <td>99.0</td>\n",
       "    </tr>\n",
       "    <tr>\n",
       "      <th>NumberOfTime30-59DaysPastDueNotWorse</th>\n",
       "      <td>5001.0</td>\n",
       "      <td>0.355729</td>\n",
       "      <td>3.178306</td>\n",
       "      <td>0.0</td>\n",
       "      <td>0.000000</td>\n",
       "      <td>0.000000</td>\n",
       "      <td>0.000000</td>\n",
       "      <td>98.0</td>\n",
       "    </tr>\n",
       "    <tr>\n",
       "      <th>DebtRatio</th>\n",
       "      <td>5001.0</td>\n",
       "      <td>368.032252</td>\n",
       "      <td>2593.676885</td>\n",
       "      <td>0.0</td>\n",
       "      <td>0.177007</td>\n",
       "      <td>0.365727</td>\n",
       "      <td>0.829553</td>\n",
       "      <td>168835.0</td>\n",
       "    </tr>\n",
       "    <tr>\n",
       "      <th>MonthlyIncome</th>\n",
       "      <td>4031.0</td>\n",
       "      <td>6554.690151</td>\n",
       "      <td>7058.453424</td>\n",
       "      <td>0.0</td>\n",
       "      <td>3454.500000</td>\n",
       "      <td>5333.000000</td>\n",
       "      <td>8167.500000</td>\n",
       "      <td>208333.0</td>\n",
       "    </tr>\n",
       "    <tr>\n",
       "      <th>NumberOfOpenCreditLinesAndLoans</th>\n",
       "      <td>5001.0</td>\n",
       "      <td>8.383323</td>\n",
       "      <td>5.111950</td>\n",
       "      <td>0.0</td>\n",
       "      <td>5.000000</td>\n",
       "      <td>8.000000</td>\n",
       "      <td>11.000000</td>\n",
       "      <td>46.0</td>\n",
       "    </tr>\n",
       "    <tr>\n",
       "      <th>NumberOfTimes90DaysLate</th>\n",
       "      <td>5001.0</td>\n",
       "      <td>0.194361</td>\n",
       "      <td>3.132956</td>\n",
       "      <td>0.0</td>\n",
       "      <td>0.000000</td>\n",
       "      <td>0.000000</td>\n",
       "      <td>0.000000</td>\n",
       "      <td>98.0</td>\n",
       "    </tr>\n",
       "    <tr>\n",
       "      <th>NumberRealEstateLoansOrLines</th>\n",
       "      <td>5001.0</td>\n",
       "      <td>1.022795</td>\n",
       "      <td>1.107556</td>\n",
       "      <td>0.0</td>\n",
       "      <td>0.000000</td>\n",
       "      <td>1.000000</td>\n",
       "      <td>2.000000</td>\n",
       "      <td>17.0</td>\n",
       "    </tr>\n",
       "    <tr>\n",
       "      <th>NumberOfTime60-89DaysPastDueNotWorse</th>\n",
       "      <td>5001.0</td>\n",
       "      <td>0.165167</td>\n",
       "      <td>3.111899</td>\n",
       "      <td>0.0</td>\n",
       "      <td>0.000000</td>\n",
       "      <td>0.000000</td>\n",
       "      <td>0.000000</td>\n",
       "      <td>98.0</td>\n",
       "    </tr>\n",
       "    <tr>\n",
       "      <th>NumberOfDependents</th>\n",
       "      <td>4859.0</td>\n",
       "      <td>0.742745</td>\n",
       "      <td>1.103014</td>\n",
       "      <td>0.0</td>\n",
       "      <td>0.000000</td>\n",
       "      <td>0.000000</td>\n",
       "      <td>1.000000</td>\n",
       "      <td>8.0</td>\n",
       "    </tr>\n",
       "  </tbody>\n",
       "</table>\n",
       "</div>"
      ],
      "text/plain": [
       "                                       count         mean          std   min  \\\n",
       "SeriousDlqin2yrs                      5001.0     0.060988     0.239332   0.0   \n",
       "RevolvingUtilizationOfUnsecuredLines  5001.0     3.842957   117.415101   0.0   \n",
       "age                                   5001.0    52.128374    14.907257  21.0   \n",
       "NumberOfTime30-59DaysPastDueNotWorse  5001.0     0.355729     3.178306   0.0   \n",
       "DebtRatio                             5001.0   368.032252  2593.676885   0.0   \n",
       "MonthlyIncome                         4031.0  6554.690151  7058.453424   0.0   \n",
       "NumberOfOpenCreditLinesAndLoans       5001.0     8.383323     5.111950   0.0   \n",
       "NumberOfTimes90DaysLate               5001.0     0.194361     3.132956   0.0   \n",
       "NumberRealEstateLoansOrLines          5001.0     1.022795     1.107556   0.0   \n",
       "NumberOfTime60-89DaysPastDueNotWorse  5001.0     0.165167     3.111899   0.0   \n",
       "NumberOfDependents                    4859.0     0.742745     1.103014   0.0   \n",
       "\n",
       "                                              25%          50%          75%  \\\n",
       "SeriousDlqin2yrs                         0.000000     0.000000     0.000000   \n",
       "RevolvingUtilizationOfUnsecuredLines     0.030053     0.163463     0.556134   \n",
       "age                                     41.000000    52.000000    63.000000   \n",
       "NumberOfTime30-59DaysPastDueNotWorse     0.000000     0.000000     0.000000   \n",
       "DebtRatio                                0.177007     0.365727     0.829553   \n",
       "MonthlyIncome                         3454.500000  5333.000000  8167.500000   \n",
       "NumberOfOpenCreditLinesAndLoans          5.000000     8.000000    11.000000   \n",
       "NumberOfTimes90DaysLate                  0.000000     0.000000     0.000000   \n",
       "NumberRealEstateLoansOrLines             0.000000     1.000000     2.000000   \n",
       "NumberOfTime60-89DaysPastDueNotWorse     0.000000     0.000000     0.000000   \n",
       "NumberOfDependents                       0.000000     0.000000     1.000000   \n",
       "\n",
       "                                           max  \n",
       "SeriousDlqin2yrs                           1.0  \n",
       "RevolvingUtilizationOfUnsecuredLines    6324.0  \n",
       "age                                       99.0  \n",
       "NumberOfTime30-59DaysPastDueNotWorse      98.0  \n",
       "DebtRatio                             168835.0  \n",
       "MonthlyIncome                         208333.0  \n",
       "NumberOfOpenCreditLinesAndLoans           46.0  \n",
       "NumberOfTimes90DaysLate                   98.0  \n",
       "NumberRealEstateLoansOrLines              17.0  \n",
       "NumberOfTime60-89DaysPastDueNotWorse      98.0  \n",
       "NumberOfDependents                         8.0  "
      ]
     },
     "execution_count": 4,
     "metadata": {},
     "output_type": "execute_result"
    }
   ],
   "source": [
    "training_data.describe().T"
   ]
  },
  {
   "cell_type": "markdown",
   "metadata": {
    "colab_type": "text",
    "id": "iemJpso3Rgtt"
   },
   "source": [
    "Choose randomly ten objects from dataset:"
   ]
  },
  {
   "cell_type": "code",
   "execution_count": 5,
   "metadata": {
    "colab": {},
    "colab_type": "code",
    "id": "DcD9qhzVRgtu"
   },
   "outputs": [
    {
     "data": {
      "text/html": [
       "<div>\n",
       "<style scoped>\n",
       "    .dataframe tbody tr th:only-of-type {\n",
       "        vertical-align: middle;\n",
       "    }\n",
       "\n",
       "    .dataframe tbody tr th {\n",
       "        vertical-align: top;\n",
       "    }\n",
       "\n",
       "    .dataframe thead th {\n",
       "        text-align: right;\n",
       "    }\n",
       "</style>\n",
       "<table border=\"1\" class=\"dataframe\">\n",
       "  <thead>\n",
       "    <tr style=\"text-align: right;\">\n",
       "      <th></th>\n",
       "      <th>SeriousDlqin2yrs</th>\n",
       "      <th>RevolvingUtilizationOfUnsecuredLines</th>\n",
       "      <th>age</th>\n",
       "      <th>NumberOfTime30-59DaysPastDueNotWorse</th>\n",
       "      <th>DebtRatio</th>\n",
       "      <th>MonthlyIncome</th>\n",
       "      <th>NumberOfOpenCreditLinesAndLoans</th>\n",
       "      <th>NumberOfTimes90DaysLate</th>\n",
       "      <th>NumberRealEstateLoansOrLines</th>\n",
       "      <th>NumberOfTime60-89DaysPastDueNotWorse</th>\n",
       "      <th>NumberOfDependents</th>\n",
       "    </tr>\n",
       "  </thead>\n",
       "  <tbody>\n",
       "    <tr>\n",
       "      <th>2648</th>\n",
       "      <td>0</td>\n",
       "      <td>0.000000</td>\n",
       "      <td>57</td>\n",
       "      <td>0</td>\n",
       "      <td>0.000000</td>\n",
       "      <td>8500.0</td>\n",
       "      <td>3</td>\n",
       "      <td>0</td>\n",
       "      <td>0</td>\n",
       "      <td>0</td>\n",
       "      <td>3.0</td>\n",
       "    </tr>\n",
       "    <tr>\n",
       "      <th>2456</th>\n",
       "      <td>0</td>\n",
       "      <td>0.265081</td>\n",
       "      <td>32</td>\n",
       "      <td>0</td>\n",
       "      <td>0.207063</td>\n",
       "      <td>6200.0</td>\n",
       "      <td>6</td>\n",
       "      <td>0</td>\n",
       "      <td>0</td>\n",
       "      <td>0</td>\n",
       "      <td>3.0</td>\n",
       "    </tr>\n",
       "    <tr>\n",
       "      <th>4558</th>\n",
       "      <td>0</td>\n",
       "      <td>0.067098</td>\n",
       "      <td>34</td>\n",
       "      <td>0</td>\n",
       "      <td>0.280673</td>\n",
       "      <td>8500.0</td>\n",
       "      <td>7</td>\n",
       "      <td>0</td>\n",
       "      <td>2</td>\n",
       "      <td>0</td>\n",
       "      <td>2.0</td>\n",
       "    </tr>\n",
       "    <tr>\n",
       "      <th>4885</th>\n",
       "      <td>0</td>\n",
       "      <td>1.123876</td>\n",
       "      <td>26</td>\n",
       "      <td>1</td>\n",
       "      <td>0.356159</td>\n",
       "      <td>2540.0</td>\n",
       "      <td>5</td>\n",
       "      <td>3</td>\n",
       "      <td>0</td>\n",
       "      <td>3</td>\n",
       "      <td>2.0</td>\n",
       "    </tr>\n",
       "    <tr>\n",
       "      <th>92</th>\n",
       "      <td>0</td>\n",
       "      <td>0.784836</td>\n",
       "      <td>52</td>\n",
       "      <td>0</td>\n",
       "      <td>2662.000000</td>\n",
       "      <td>NaN</td>\n",
       "      <td>10</td>\n",
       "      <td>0</td>\n",
       "      <td>2</td>\n",
       "      <td>1</td>\n",
       "      <td>0.0</td>\n",
       "    </tr>\n",
       "    <tr>\n",
       "      <th>3602</th>\n",
       "      <td>0</td>\n",
       "      <td>0.004000</td>\n",
       "      <td>70</td>\n",
       "      <td>0</td>\n",
       "      <td>0.169479</td>\n",
       "      <td>8000.0</td>\n",
       "      <td>8</td>\n",
       "      <td>0</td>\n",
       "      <td>1</td>\n",
       "      <td>0</td>\n",
       "      <td>1.0</td>\n",
       "    </tr>\n",
       "    <tr>\n",
       "      <th>30</th>\n",
       "      <td>0</td>\n",
       "      <td>0.704074</td>\n",
       "      <td>28</td>\n",
       "      <td>1</td>\n",
       "      <td>0.155201</td>\n",
       "      <td>4200.0</td>\n",
       "      <td>8</td>\n",
       "      <td>0</td>\n",
       "      <td>0</td>\n",
       "      <td>0</td>\n",
       "      <td>0.0</td>\n",
       "    </tr>\n",
       "    <tr>\n",
       "      <th>1746</th>\n",
       "      <td>0</td>\n",
       "      <td>0.142398</td>\n",
       "      <td>57</td>\n",
       "      <td>0</td>\n",
       "      <td>0.264080</td>\n",
       "      <td>4225.0</td>\n",
       "      <td>6</td>\n",
       "      <td>0</td>\n",
       "      <td>1</td>\n",
       "      <td>0</td>\n",
       "      <td>0.0</td>\n",
       "    </tr>\n",
       "    <tr>\n",
       "      <th>1692</th>\n",
       "      <td>0</td>\n",
       "      <td>0.016862</td>\n",
       "      <td>48</td>\n",
       "      <td>0</td>\n",
       "      <td>0.425822</td>\n",
       "      <td>12260.0</td>\n",
       "      <td>12</td>\n",
       "      <td>0</td>\n",
       "      <td>5</td>\n",
       "      <td>0</td>\n",
       "      <td>4.0</td>\n",
       "    </tr>\n",
       "    <tr>\n",
       "      <th>2277</th>\n",
       "      <td>1</td>\n",
       "      <td>0.935497</td>\n",
       "      <td>55</td>\n",
       "      <td>0</td>\n",
       "      <td>0.450293</td>\n",
       "      <td>6477.0</td>\n",
       "      <td>10</td>\n",
       "      <td>0</td>\n",
       "      <td>2</td>\n",
       "      <td>0</td>\n",
       "      <td>0.0</td>\n",
       "    </tr>\n",
       "  </tbody>\n",
       "</table>\n",
       "</div>"
      ],
      "text/plain": [
       "      SeriousDlqin2yrs  RevolvingUtilizationOfUnsecuredLines  age  \\\n",
       "2648                 0                              0.000000   57   \n",
       "2456                 0                              0.265081   32   \n",
       "4558                 0                              0.067098   34   \n",
       "4885                 0                              1.123876   26   \n",
       "92                   0                              0.784836   52   \n",
       "3602                 0                              0.004000   70   \n",
       "30                   0                              0.704074   28   \n",
       "1746                 0                              0.142398   57   \n",
       "1692                 0                              0.016862   48   \n",
       "2277                 1                              0.935497   55   \n",
       "\n",
       "      NumberOfTime30-59DaysPastDueNotWorse    DebtRatio  MonthlyIncome  \\\n",
       "2648                                     0     0.000000         8500.0   \n",
       "2456                                     0     0.207063         6200.0   \n",
       "4558                                     0     0.280673         8500.0   \n",
       "4885                                     1     0.356159         2540.0   \n",
       "92                                       0  2662.000000            NaN   \n",
       "3602                                     0     0.169479         8000.0   \n",
       "30                                       1     0.155201         4200.0   \n",
       "1746                                     0     0.264080         4225.0   \n",
       "1692                                     0     0.425822        12260.0   \n",
       "2277                                     0     0.450293         6477.0   \n",
       "\n",
       "      NumberOfOpenCreditLinesAndLoans  NumberOfTimes90DaysLate  \\\n",
       "2648                                3                        0   \n",
       "2456                                6                        0   \n",
       "4558                                7                        0   \n",
       "4885                                5                        3   \n",
       "92                                 10                        0   \n",
       "3602                                8                        0   \n",
       "30                                  8                        0   \n",
       "1746                                6                        0   \n",
       "1692                               12                        0   \n",
       "2277                               10                        0   \n",
       "\n",
       "      NumberRealEstateLoansOrLines  NumberOfTime60-89DaysPastDueNotWorse  \\\n",
       "2648                             0                                     0   \n",
       "2456                             0                                     0   \n",
       "4558                             2                                     0   \n",
       "4885                             0                                     3   \n",
       "92                               2                                     1   \n",
       "3602                             1                                     0   \n",
       "30                               0                                     0   \n",
       "1746                             1                                     0   \n",
       "1692                             5                                     0   \n",
       "2277                             2                                     0   \n",
       "\n",
       "      NumberOfDependents  \n",
       "2648                 3.0  \n",
       "2456                 3.0  \n",
       "4558                 2.0  \n",
       "4885                 2.0  \n",
       "92                   0.0  \n",
       "3602                 1.0  \n",
       "30                   0.0  \n",
       "1746                 0.0  \n",
       "1692                 4.0  \n",
       "2277                 0.0  "
      ]
     },
     "execution_count": 5,
     "metadata": {},
     "output_type": "execute_result"
    }
   ],
   "source": [
    "training_data.sample(10, random_state=123)"
   ]
  },
  {
   "cell_type": "markdown",
   "metadata": {
    "colab_type": "text",
    "id": "uDpi4RNtRgtx"
   },
   "source": [
    "We see that there are `NaN`s in data. Let's calculate mean values of features on **training data** and fill them in instead of the missing values. We will do that both for **train** and **test**.\n",
    "\n",
    "There are several ways to fill in skipped data:\n",
    "* mean, median;\n",
    "* regression predictions;\n",
    "* in case of time series -- last known value,\n",
    "* linear interpolation, etc.\n",
    "\n",
    "If the number of skipped values is small, you can throw the corresponding objects away."
   ]
  },
  {
   "cell_type": "code",
   "execution_count": 6,
   "metadata": {
    "colab": {},
    "colab_type": "code",
    "id": "8IGLwilrmTS8"
   },
   "outputs": [
    {
     "data": {
      "text/plain": [
       "0    4696\n",
       "1     305\n",
       "Name: SeriousDlqin2yrs, dtype: int64"
      ]
     },
     "execution_count": 6,
     "metadata": {},
     "output_type": "execute_result"
    }
   ],
   "source": [
    "training_data[\"SeriousDlqin2yrs\"].value_counts()"
   ]
  },
  {
   "cell_type": "code",
   "execution_count": 7,
   "metadata": {},
   "outputs": [],
   "source": [
    "train_mean = training_data.mean()"
   ]
  },
  {
   "cell_type": "code",
   "execution_count": 8,
   "metadata": {},
   "outputs": [
    {
     "data": {
      "text/plain": [
       "SeriousDlqin2yrs                           0.060988\n",
       "RevolvingUtilizationOfUnsecuredLines       3.842957\n",
       "age                                       52.128374\n",
       "NumberOfTime30-59DaysPastDueNotWorse       0.355729\n",
       "DebtRatio                                368.032252\n",
       "MonthlyIncome                           6554.690151\n",
       "NumberOfOpenCreditLinesAndLoans            8.383323\n",
       "NumberOfTimes90DaysLate                    0.194361\n",
       "NumberRealEstateLoansOrLines               1.022795\n",
       "NumberOfTime60-89DaysPastDueNotWorse       0.165167\n",
       "NumberOfDependents                         0.742745\n",
       "dtype: float64"
      ]
     },
     "execution_count": 8,
     "metadata": {},
     "output_type": "execute_result"
    }
   ],
   "source": [
    "train_mean"
   ]
  },
  {
   "cell_type": "code",
   "execution_count": 9,
   "metadata": {
    "colab": {},
    "colab_type": "code",
    "id": "0S1ukXYlRgtz"
   },
   "outputs": [
    {
     "name": "stdout",
     "output_type": "stream",
     "text": [
      "SeriousDlqin2yrs                        0\n",
      "RevolvingUtilizationOfUnsecuredLines    0\n",
      "age                                     0\n",
      "NumberOfTime30-59DaysPastDueNotWorse    0\n",
      "DebtRatio                               0\n",
      "MonthlyIncome                           0\n",
      "NumberOfOpenCreditLinesAndLoans         0\n",
      "NumberOfTimes90DaysLate                 0\n",
      "NumberRealEstateLoansOrLines            0\n",
      "NumberOfTime60-89DaysPastDueNotWorse    0\n",
      "NumberOfDependents                      0\n",
      "dtype: int64\n",
      "SeriousDlqin2yrs                        0\n",
      "RevolvingUtilizationOfUnsecuredLines    0\n",
      "age                                     0\n",
      "NumberOfTime30-59DaysPastDueNotWorse    0\n",
      "DebtRatio                               0\n",
      "MonthlyIncome                           0\n",
      "NumberOfOpenCreditLinesAndLoans         0\n",
      "NumberOfTimes90DaysLate                 0\n",
      "NumberRealEstateLoansOrLines            0\n",
      "NumberOfTime60-89DaysPastDueNotWorse    0\n",
      "NumberOfDependents                      0\n",
      "dtype: int64\n"
     ]
    }
   ],
   "source": [
    "# fill NA values with mean training values\n",
    "training_data.fillna(train_mean, inplace=True)\n",
    "test_data.fillna(train_mean, inplace=True)\n",
    "\n",
    "print(training_data.isnull().sum())\n",
    "print(test_data.isnull().sum())"
   ]
  },
  {
   "cell_type": "markdown",
   "metadata": {
    "colab_type": "text",
    "id": "QzpECX19Rgt1"
   },
   "source": [
    "Compare train and test distributions"
   ]
  },
  {
   "cell_type": "code",
   "execution_count": 10,
   "metadata": {
    "colab": {},
    "colab_type": "code",
    "id": "LhlyXAR_Rgt2"
   },
   "outputs": [
    {
     "data": {
      "image/png": "[encoded data removed]",
      "text/plain": [
       "<Figure size 1152x648 with 12 Axes>"
      ]
     },
     "metadata": {
      "needs_background": "light"
     },
     "output_type": "display_data"
    }
   ],
   "source": [
    "axes = training_data.hist(figsize=(16, 9), bins=25, alpha=0.75) # that will plot training data histograms\n",
    "\n",
    "for plot in axes.flat: # that will draw test data on top of training histograms\n",
    "    column = plot.title.get_text()\n",
    "    if column:\n",
    "        test_data[column].hist(ax=plot, bins=25, alpha=0.55)"
   ]
  },
  {
   "cell_type": "markdown",
   "metadata": {
    "colab_type": "text",
    "id": "_5xrhG2bRgt4"
   },
   "source": [
    "Pay attention to **SeriousDlqin2yrs** -- 90 days past due delinquency or worse in the last 2 years. We see that most of the borrowers pay in time."
   ]
  },
  {
   "cell_type": "code",
   "execution_count": 12,
   "metadata": {
    "colab": {},
    "colab_type": "code",
    "id": "sbwfKx8ARgt4"
   },
   "outputs": [
    {
     "data": {
      "text/plain": [
       "0    4696\n",
       "1     305\n",
       "Name: SeriousDlqin2yrs, dtype: int64"
      ]
     },
     "execution_count": 12,
     "metadata": {},
     "output_type": "execute_result"
    }
   ],
   "source": [
    "# The data set is imbalanced: typically people return credits\n",
    "training_data[\"SeriousDlqin2yrs\"].value_counts()"
   ]
  },
  {
   "cell_type": "markdown",
   "metadata": {
    "colab_type": "text",
    "id": "jWdP1Z2gRgt8"
   },
   "source": [
    "# Classification algorithms"
   ]
  },
  {
   "cell_type": "markdown",
   "metadata": {
    "colab_type": "text",
    "id": "3M-AubqTRgt9"
   },
   "source": [
    "First of all, load data for learning as pairs $(X, y)$, where $X = (x_i)_{i=1}^n$ -- input features,\n",
    "and $y=(y_i)_{i=1}^n$ corresponding labels."
   ]
  },
  {
   "cell_type": "code",
   "execution_count": 13,
   "metadata": {
    "colab": {},
    "colab_type": "code",
    "id": "hl3hqXb8Rgt-"
   },
   "outputs": [],
   "source": [
    "training_X = training_data.drop(\"SeriousDlqin2yrs\", axis=1)\n",
    "training_y = training_data[\"SeriousDlqin2yrs\"]\n",
    "\n",
    "test_X = test_data.drop(\"SeriousDlqin2yrs\", axis=1)\n",
    "test_y = test_data[\"SeriousDlqin2yrs\"]"
   ]
  },
  {
   "cell_type": "markdown",
   "metadata": {
    "colab_type": "text",
    "id": "kV1O9ZZZRguA"
   },
   "source": [
    "Construct calssification algorithms and train them."
   ]
  },
  {
   "cell_type": "code",
   "execution_count": 14,
   "metadata": {
    "colab": {},
    "colab_type": "code",
    "id": "sTE1xxfzRguB"
   },
   "outputs": [
    {
     "data": {
      "text/plain": [
       "DecisionTreeClassifier(max_depth=5)"
      ]
     },
     "execution_count": 14,
     "metadata": {},
     "output_type": "execute_result"
    }
   ],
   "source": [
    "# Construct Decision Tree model\n",
    "\n",
    "decision_tree = DecisionTreeClassifier(max_depth = 5)\n",
    "decision_tree.fit(training_X, training_y)"
   ]
  },
  {
   "cell_type": "code",
   "execution_count": 15,
   "metadata": {
    "collapsed": true,
    "jupyter": {
     "outputs_hidden": true
    },
    "tags": []
   },
   "outputs": [
    {
     "name": "stdout",
     "output_type": "stream",
     "text": [
      "Defaulting to user installation because normal site-packages is not writeable\n",
      "Requirement already satisfied: graphviz in /home/aaptss/.local/lib/python3.8/site-packages (0.18)\n"
     ]
    },
    {
     "data": {
      "image/svg+xml": [
       "<?xml version=\"1.0\" encoding=\"UTF-8\" standalone=\"no\"?>\n",
       "<!DOCTYPE svg PUBLIC \"-//W3C//DTD SVG 1.1//EN\"\n",
       " \"http://www.w3.org/Graphics/SVG/1.1/DTD/svg11.dtd\">\n",
       "<!-- Generated by graphviz version 2.43.0 (0)\n",
       " -->\n",
       "<!-- Title: Tree Pages: 1 -->\n",
       "<svg width=\"4182pt\" height=\"581pt\"\n",
       " viewBox=\"0.00 0.00 4181.50 581.00\" xmlns=\"http://www.w3.org/2000/svg\" xmlns:xlink=\"http://www.w3.org/1999/xlink\">\n",
       "<g id=\"graph0\" class=\"graph\" transform=\"scale(1 1) rotate(0) translate(4 577)\">\n",
       "<title>Tree</title>\n",
       "<polygon fill=\"white\" stroke=\"transparent\" points=\"-4,4 -4,-577 4177.5,-577 4177.5,4 -4,4\"/>\n",
       "<!-- 0 -->\n",
       "<g id=\"node1\" class=\"node\">\n",
       "<title>0</title>\n",
       "<polygon fill=\"none\" stroke=\"black\" points=\"2372,-573 1993,-573 1993,-505 2372,-505 2372,-573\"/>\n",
       "<text text-anchor=\"middle\" x=\"2182.5\" y=\"-557.8\" font-family=\"Helvetica,sans-Serif\" font-size=\"14.00\">NumberOfTime60&#45;89DaysPastDueNotWorse &lt;= 0.5</text>\n",
       "<text text-anchor=\"middle\" x=\"2182.5\" y=\"-542.8\" font-family=\"Helvetica,sans-Serif\" font-size=\"14.00\">gini = 0.115</text>\n",
       "<text text-anchor=\"middle\" x=\"2182.5\" y=\"-527.8\" font-family=\"Helvetica,sans-Serif\" font-size=\"14.00\">samples = 5001</text>\n",
       "<text text-anchor=\"middle\" x=\"2182.5\" y=\"-512.8\" font-family=\"Helvetica,sans-Serif\" font-size=\"14.00\">value = [4696, 305]</text>\n",
       "</g>\n",
       "<!-- 1 -->\n",
       "<g id=\"node2\" class=\"node\">\n",
       "<title>1</title>\n",
       "<polygon fill=\"none\" stroke=\"black\" points=\"1842.5,-469 1574.5,-469 1574.5,-401 1842.5,-401 1842.5,-469\"/>\n",
       "<text text-anchor=\"middle\" x=\"1708.5\" y=\"-453.8\" font-family=\"Helvetica,sans-Serif\" font-size=\"14.00\">NumberOfTimes90DaysLate &lt;= 0.5</text>\n",
       "<text text-anchor=\"middle\" x=\"1708.5\" y=\"-438.8\" font-family=\"Helvetica,sans-Serif\" font-size=\"14.00\">gini = 0.083</text>\n",
       "<text text-anchor=\"middle\" x=\"1708.5\" y=\"-423.8\" font-family=\"Helvetica,sans-Serif\" font-size=\"14.00\">samples = 4732</text>\n",
       "<text text-anchor=\"middle\" x=\"1708.5\" y=\"-408.8\" font-family=\"Helvetica,sans-Serif\" font-size=\"14.00\">value = [4526, 206]</text>\n",
       "</g>\n",
       "<!-- 0&#45;&gt;1 -->\n",
       "<g id=\"edge1\" class=\"edge\">\n",
       "<title>0&#45;&gt;1</title>\n",
       "<path fill=\"none\" stroke=\"black\" d=\"M2028.93,-504.95C1972.3,-492.77 1908.39,-479.01 1852.63,-467.01\"/>\n",
       "<polygon fill=\"black\" stroke=\"black\" points=\"1853.18,-463.55 1842.67,-464.87 1851.71,-470.4 1853.18,-463.55\"/>\n",
       "<text text-anchor=\"middle\" x=\"1856.24\" y=\"-482.17\" font-family=\"Helvetica,sans-Serif\" font-size=\"14.00\">True</text>\n",
       "</g>\n",
       "<!-- 28 -->\n",
       "<g id=\"node29\" class=\"node\">\n",
       "<title>28</title>\n",
       "<polygon fill=\"none\" stroke=\"black\" points=\"2662.5,-469 2308.5,-469 2308.5,-401 2662.5,-401 2662.5,-469\"/>\n",
       "<text text-anchor=\"middle\" x=\"2485.5\" y=\"-453.8\" font-family=\"Helvetica,sans-Serif\" font-size=\"14.00\">RevolvingUtilizationOfUnsecuredLines &lt;= 0.952</text>\n",
       "<text text-anchor=\"middle\" x=\"2485.5\" y=\"-438.8\" font-family=\"Helvetica,sans-Serif\" font-size=\"14.00\">gini = 0.465</text>\n",
       "<text text-anchor=\"middle\" x=\"2485.5\" y=\"-423.8\" font-family=\"Helvetica,sans-Serif\" font-size=\"14.00\">samples = 269</text>\n",
       "<text text-anchor=\"middle\" x=\"2485.5\" y=\"-408.8\" font-family=\"Helvetica,sans-Serif\" font-size=\"14.00\">value = [170, 99]</text>\n",
       "</g>\n",
       "<!-- 0&#45;&gt;28 -->\n",
       "<g id=\"edge28\" class=\"edge\">\n",
       "<title>0&#45;&gt;28</title>\n",
       "<path fill=\"none\" stroke=\"black\" d=\"M2280.88,-504.88C2311.8,-494.47 2346.11,-482.92 2377.66,-472.3\"/>\n",
       "<polygon fill=\"black\" stroke=\"black\" points=\"2379,-475.55 2387.36,-469.04 2376.77,-468.91 2379,-475.55\"/>\n",
       "<text text-anchor=\"middle\" x=\"2376.25\" y=\"-487.73\" font-family=\"Helvetica,sans-Serif\" font-size=\"14.00\">False</text>\n",
       "</g>\n",
       "<!-- 2 -->\n",
       "<g id=\"node3\" class=\"node\">\n",
       "<title>2</title>\n",
       "<polygon fill=\"none\" stroke=\"black\" points=\"1046.5,-365 692.5,-365 692.5,-297 1046.5,-297 1046.5,-365\"/>\n",
       "<text text-anchor=\"middle\" x=\"869.5\" y=\"-349.8\" font-family=\"Helvetica,sans-Serif\" font-size=\"14.00\">RevolvingUtilizationOfUnsecuredLines &lt;= 0.571</text>\n",
       "<text text-anchor=\"middle\" x=\"869.5\" y=\"-334.8\" font-family=\"Helvetica,sans-Serif\" font-size=\"14.00\">gini = 0.065</text>\n",
       "<text text-anchor=\"middle\" x=\"869.5\" y=\"-319.8\" font-family=\"Helvetica,sans-Serif\" font-size=\"14.00\">samples = 4546</text>\n",
       "<text text-anchor=\"middle\" x=\"869.5\" y=\"-304.8\" font-family=\"Helvetica,sans-Serif\" font-size=\"14.00\">value = [4392, 154]</text>\n",
       "</g>\n",
       "<!-- 1&#45;&gt;2 -->\n",
       "<g id=\"edge2\" class=\"edge\">\n",
       "<title>1&#45;&gt;2</title>\n",
       "<path fill=\"none\" stroke=\"black\" d=\"M1574.17,-417.67C1434.19,-400.65 1213.79,-373.86 1056.77,-354.77\"/>\n",
       "<polygon fill=\"black\" stroke=\"black\" points=\"1056.87,-351.25 1046.52,-353.52 1056.02,-358.2 1056.87,-351.25\"/>\n",
       "</g>\n",
       "<!-- 15 -->\n",
       "<g id=\"node16\" class=\"node\">\n",
       "<title>15</title>\n",
       "<polygon fill=\"none\" stroke=\"black\" points=\"1898,-365 1519,-365 1519,-297 1898,-297 1898,-365\"/>\n",
       "<text text-anchor=\"middle\" x=\"1708.5\" y=\"-349.8\" font-family=\"Helvetica,sans-Serif\" font-size=\"14.00\">NumberOfTime30&#45;59DaysPastDueNotWorse &lt;= 1.5</text>\n",
       "<text text-anchor=\"middle\" x=\"1708.5\" y=\"-334.8\" font-family=\"Helvetica,sans-Serif\" font-size=\"14.00\">gini = 0.403</text>\n",
       "<text text-anchor=\"middle\" x=\"1708.5\" y=\"-319.8\" font-family=\"Helvetica,sans-Serif\" font-size=\"14.00\">samples = 186</text>\n",
       "<text text-anchor=\"middle\" x=\"1708.5\" y=\"-304.8\" font-family=\"Helvetica,sans-Serif\" font-size=\"14.00\">value = [134, 52]</text>\n",
       "</g>\n",
       "<!-- 1&#45;&gt;15 -->\n",
       "<g id=\"edge15\" class=\"edge\">\n",
       "<title>1&#45;&gt;15</title>\n",
       "<path fill=\"none\" stroke=\"black\" d=\"M1708.5,-400.88C1708.5,-392.78 1708.5,-383.98 1708.5,-375.47\"/>\n",
       "<polygon fill=\"black\" stroke=\"black\" points=\"1712,-375.3 1708.5,-365.3 1705,-375.3 1712,-375.3\"/>\n",
       "</g>\n",
       "<!-- 3 -->\n",
       "<g id=\"node4\" class=\"node\">\n",
       "<title>3</title>\n",
       "<polygon fill=\"none\" stroke=\"black\" points=\"531,-261 226,-261 226,-193 531,-193 531,-261\"/>\n",
       "<text text-anchor=\"middle\" x=\"378.5\" y=\"-245.8\" font-family=\"Helvetica,sans-Serif\" font-size=\"14.00\">NumberRealEstateLoansOrLines &lt;= 16.0</text>\n",
       "<text text-anchor=\"middle\" x=\"378.5\" y=\"-230.8\" font-family=\"Helvetica,sans-Serif\" font-size=\"14.00\">gini = 0.032</text>\n",
       "<text text-anchor=\"middle\" x=\"378.5\" y=\"-215.8\" font-family=\"Helvetica,sans-Serif\" font-size=\"14.00\">samples = 3611</text>\n",
       "<text text-anchor=\"middle\" x=\"378.5\" y=\"-200.8\" font-family=\"Helvetica,sans-Serif\" font-size=\"14.00\">value = [3552, 59]</text>\n",
       "</g>\n",
       "<!-- 2&#45;&gt;3 -->\n",
       "<g id=\"edge3\" class=\"edge\">\n",
       "<title>2&#45;&gt;3</title>\n",
       "<path fill=\"none\" stroke=\"black\" d=\"M710.43,-296.95C656.24,-285.7 595.61,-273.1 541.15,-261.79\"/>\n",
       "<polygon fill=\"black\" stroke=\"black\" points=\"541.55,-258.3 531.05,-259.69 540.13,-265.15 541.55,-258.3\"/>\n",
       "</g>\n",
       "<!-- 8 -->\n",
       "<g id=\"node9\" class=\"node\">\n",
       "<title>8</title>\n",
       "<polygon fill=\"none\" stroke=\"black\" points=\"1059,-261 680,-261 680,-193 1059,-193 1059,-261\"/>\n",
       "<text text-anchor=\"middle\" x=\"869.5\" y=\"-245.8\" font-family=\"Helvetica,sans-Serif\" font-size=\"14.00\">NumberOfTime30&#45;59DaysPastDueNotWorse &lt;= 1.5</text>\n",
       "<text text-anchor=\"middle\" x=\"869.5\" y=\"-230.8\" font-family=\"Helvetica,sans-Serif\" font-size=\"14.00\">gini = 0.183</text>\n",
       "<text text-anchor=\"middle\" x=\"869.5\" y=\"-215.8\" font-family=\"Helvetica,sans-Serif\" font-size=\"14.00\">samples = 935</text>\n",
       "<text text-anchor=\"middle\" x=\"869.5\" y=\"-200.8\" font-family=\"Helvetica,sans-Serif\" font-size=\"14.00\">value = [840, 95]</text>\n",
       "</g>\n",
       "<!-- 2&#45;&gt;8 -->\n",
       "<g id=\"edge8\" class=\"edge\">\n",
       "<title>2&#45;&gt;8</title>\n",
       "<path fill=\"none\" stroke=\"black\" d=\"M869.5,-296.88C869.5,-288.78 869.5,-279.98 869.5,-271.47\"/>\n",
       "<polygon fill=\"black\" stroke=\"black\" points=\"873,-271.3 869.5,-261.3 866,-271.3 873,-271.3\"/>\n",
       "</g>\n",
       "<!-- 4 -->\n",
       "<g id=\"node5\" class=\"node\">\n",
       "<title>4</title>\n",
       "<polygon fill=\"none\" stroke=\"black\" points=\"303.5,-157 7.5,-157 7.5,-89 303.5,-89 303.5,-157\"/>\n",
       "<text text-anchor=\"middle\" x=\"155.5\" y=\"-141.8\" font-family=\"Helvetica,sans-Serif\" font-size=\"14.00\">NumberRealEstateLoansOrLines &lt;= 2.5</text>\n",
       "<text text-anchor=\"middle\" x=\"155.5\" y=\"-126.8\" font-family=\"Helvetica,sans-Serif\" font-size=\"14.00\">gini = 0.032</text>\n",
       "<text text-anchor=\"middle\" x=\"155.5\" y=\"-111.8\" font-family=\"Helvetica,sans-Serif\" font-size=\"14.00\">samples = 3610</text>\n",
       "<text text-anchor=\"middle\" x=\"155.5\" y=\"-96.8\" font-family=\"Helvetica,sans-Serif\" font-size=\"14.00\">value = [3552, 58]</text>\n",
       "</g>\n",
       "<!-- 3&#45;&gt;4 -->\n",
       "<g id=\"edge4\" class=\"edge\">\n",
       "<title>3&#45;&gt;4</title>\n",
       "<path fill=\"none\" stroke=\"black\" d=\"M306.1,-192.88C284.08,-182.81 259.73,-171.67 237.14,-161.34\"/>\n",
       "<polygon fill=\"black\" stroke=\"black\" points=\"238.47,-158.1 227.92,-157.12 235.56,-164.47 238.47,-158.1\"/>\n",
       "</g>\n",
       "<!-- 7 -->\n",
       "<g id=\"node8\" class=\"node\">\n",
       "<title>7</title>\n",
       "<polygon fill=\"none\" stroke=\"black\" points=\"435,-149.5 322,-149.5 322,-96.5 435,-96.5 435,-149.5\"/>\n",
       "<text text-anchor=\"middle\" x=\"378.5\" y=\"-134.3\" font-family=\"Helvetica,sans-Serif\" font-size=\"14.00\">gini = 0.0</text>\n",
       "<text text-anchor=\"middle\" x=\"378.5\" y=\"-119.3\" font-family=\"Helvetica,sans-Serif\" font-size=\"14.00\">samples = 1</text>\n",
       "<text text-anchor=\"middle\" x=\"378.5\" y=\"-104.3\" font-family=\"Helvetica,sans-Serif\" font-size=\"14.00\">value = [0, 1]</text>\n",
       "</g>\n",
       "<!-- 3&#45;&gt;7 -->\n",
       "<g id=\"edge7\" class=\"edge\">\n",
       "<title>3&#45;&gt;7</title>\n",
       "<path fill=\"none\" stroke=\"black\" d=\"M378.5,-192.88C378.5,-182.33 378.5,-170.6 378.5,-159.85\"/>\n",
       "<polygon fill=\"black\" stroke=\"black\" points=\"382,-159.52 378.5,-149.52 375,-159.52 382,-159.52\"/>\n",
       "</g>\n",
       "<!-- 5 -->\n",
       "<g id=\"node6\" class=\"node\">\n",
       "<title>5</title>\n",
       "<polygon fill=\"none\" stroke=\"black\" points=\"149,-53 0,-53 0,0 149,0 149,-53\"/>\n",
       "<text text-anchor=\"middle\" x=\"74.5\" y=\"-37.8\" font-family=\"Helvetica,sans-Serif\" font-size=\"14.00\">gini = 0.025</text>\n",
       "<text text-anchor=\"middle\" x=\"74.5\" y=\"-22.8\" font-family=\"Helvetica,sans-Serif\" font-size=\"14.00\">samples = 3361</text>\n",
       "<text text-anchor=\"middle\" x=\"74.5\" y=\"-7.8\" font-family=\"Helvetica,sans-Serif\" font-size=\"14.00\">value = [3318, 43]</text>\n",
       "</g>\n",
       "<!-- 4&#45;&gt;5 -->\n",
       "<g id=\"edge5\" class=\"edge\">\n",
       "<title>4&#45;&gt;5</title>\n",
       "<path fill=\"none\" stroke=\"black\" d=\"M127.17,-88.95C119.41,-79.89 110.99,-70.07 103.2,-60.99\"/>\n",
       "<polygon fill=\"black\" stroke=\"black\" points=\"105.73,-58.55 96.56,-53.24 100.41,-63.11 105.73,-58.55\"/>\n",
       "</g>\n",
       "<!-- 6 -->\n",
       "<g id=\"node7\" class=\"node\">\n",
       "<title>6</title>\n",
       "<polygon fill=\"none\" stroke=\"black\" points=\"307.5,-53 167.5,-53 167.5,0 307.5,0 307.5,-53\"/>\n",
       "<text text-anchor=\"middle\" x=\"237.5\" y=\"-37.8\" font-family=\"Helvetica,sans-Serif\" font-size=\"14.00\">gini = 0.113</text>\n",
       "<text text-anchor=\"middle\" x=\"237.5\" y=\"-22.8\" font-family=\"Helvetica,sans-Serif\" font-size=\"14.00\">samples = 249</text>\n",
       "<text text-anchor=\"middle\" x=\"237.5\" y=\"-7.8\" font-family=\"Helvetica,sans-Serif\" font-size=\"14.00\">value = [234, 15]</text>\n",
       "</g>\n",
       "<!-- 4&#45;&gt;6 -->\n",
       "<g id=\"edge6\" class=\"edge\">\n",
       "<title>4&#45;&gt;6</title>\n",
       "<path fill=\"none\" stroke=\"black\" d=\"M184.18,-88.95C192.04,-79.89 200.56,-70.07 208.44,-60.99\"/>\n",
       "<polygon fill=\"black\" stroke=\"black\" points=\"211.26,-63.08 215.17,-53.24 205.97,-58.5 211.26,-63.08\"/>\n",
       "</g>\n",
       "<!-- 9 -->\n",
       "<g id=\"node10\" class=\"node\">\n",
       "<title>9</title>\n",
       "<polygon fill=\"none\" stroke=\"black\" points=\"806.5,-157 452.5,-157 452.5,-89 806.5,-89 806.5,-157\"/>\n",
       "<text text-anchor=\"middle\" x=\"629.5\" y=\"-141.8\" font-family=\"Helvetica,sans-Serif\" font-size=\"14.00\">RevolvingUtilizationOfUnsecuredLines &lt;= 0.571</text>\n",
       "<text text-anchor=\"middle\" x=\"629.5\" y=\"-126.8\" font-family=\"Helvetica,sans-Serif\" font-size=\"14.00\">gini = 0.151</text>\n",
       "<text text-anchor=\"middle\" x=\"629.5\" y=\"-111.8\" font-family=\"Helvetica,sans-Serif\" font-size=\"14.00\">samples = 862</text>\n",
       "<text text-anchor=\"middle\" x=\"629.5\" y=\"-96.8\" font-family=\"Helvetica,sans-Serif\" font-size=\"14.00\">value = [791, 71]</text>\n",
       "</g>\n",
       "<!-- 8&#45;&gt;9 -->\n",
       "<g id=\"edge9\" class=\"edge\">\n",
       "<title>8&#45;&gt;9</title>\n",
       "<path fill=\"none\" stroke=\"black\" d=\"M791.58,-192.88C767.67,-182.72 741.21,-171.48 716.72,-161.07\"/>\n",
       "<polygon fill=\"black\" stroke=\"black\" points=\"718.01,-157.82 707.44,-157.12 715.27,-164.26 718.01,-157.82\"/>\n",
       "</g>\n",
       "<!-- 12 -->\n",
       "<g id=\"node13\" class=\"node\">\n",
       "<title>12</title>\n",
       "<polygon fill=\"none\" stroke=\"black\" points=\"1178.5,-157 824.5,-157 824.5,-89 1178.5,-89 1178.5,-157\"/>\n",
       "<text text-anchor=\"middle\" x=\"1001.5\" y=\"-141.8\" font-family=\"Helvetica,sans-Serif\" font-size=\"14.00\">RevolvingUtilizationOfUnsecuredLines &lt;= 1.002</text>\n",
       "<text text-anchor=\"middle\" x=\"1001.5\" y=\"-126.8\" font-family=\"Helvetica,sans-Serif\" font-size=\"14.00\">gini = 0.441</text>\n",
       "<text text-anchor=\"middle\" x=\"1001.5\" y=\"-111.8\" font-family=\"Helvetica,sans-Serif\" font-size=\"14.00\">samples = 73</text>\n",
       "<text text-anchor=\"middle\" x=\"1001.5\" y=\"-96.8\" font-family=\"Helvetica,sans-Serif\" font-size=\"14.00\">value = [49, 24]</text>\n",
       "</g>\n",
       "<!-- 8&#45;&gt;12 -->\n",
       "<g id=\"edge12\" class=\"edge\">\n",
       "<title>8&#45;&gt;12</title>\n",
       "<path fill=\"none\" stroke=\"black\" d=\"M912.36,-192.88C924.46,-183.53 937.75,-173.26 950.29,-163.57\"/>\n",
       "<polygon fill=\"black\" stroke=\"black\" points=\"952.63,-166.18 958.41,-157.3 948.35,-160.64 952.63,-166.18\"/>\n",
       "</g>\n",
       "<!-- 10 -->\n",
       "<g id=\"node11\" class=\"node\">\n",
       "<title>10</title>\n",
       "<polygon fill=\"none\" stroke=\"black\" points=\"614,-53 501,-53 501,0 614,0 614,-53\"/>\n",
       "<text text-anchor=\"middle\" x=\"557.5\" y=\"-37.8\" font-family=\"Helvetica,sans-Serif\" font-size=\"14.00\">gini = 0.0</text>\n",
       "<text text-anchor=\"middle\" x=\"557.5\" y=\"-22.8\" font-family=\"Helvetica,sans-Serif\" font-size=\"14.00\">samples = 1</text>\n",
       "<text text-anchor=\"middle\" x=\"557.5\" y=\"-7.8\" font-family=\"Helvetica,sans-Serif\" font-size=\"14.00\">value = [0, 1]</text>\n",
       "</g>\n",
       "<!-- 9&#45;&gt;10 -->\n",
       "<g id=\"edge10\" class=\"edge\">\n",
       "<title>9&#45;&gt;10</title>\n",
       "<path fill=\"none\" stroke=\"black\" d=\"M604.32,-88.95C597.49,-79.98 590.08,-70.27 583.22,-61.26\"/>\n",
       "<polygon fill=\"black\" stroke=\"black\" points=\"585.95,-59.07 577.11,-53.24 580.39,-63.31 585.95,-59.07\"/>\n",
       "</g>\n",
       "<!-- 11 -->\n",
       "<g id=\"node12\" class=\"node\">\n",
       "<title>11</title>\n",
       "<polygon fill=\"none\" stroke=\"black\" points=\"772.5,-53 632.5,-53 632.5,0 772.5,0 772.5,-53\"/>\n",
       "<text text-anchor=\"middle\" x=\"702.5\" y=\"-37.8\" font-family=\"Helvetica,sans-Serif\" font-size=\"14.00\">gini = 0.149</text>\n",
       "<text text-anchor=\"middle\" x=\"702.5\" y=\"-22.8\" font-family=\"Helvetica,sans-Serif\" font-size=\"14.00\">samples = 861</text>\n",
       "<text text-anchor=\"middle\" x=\"702.5\" y=\"-7.8\" font-family=\"Helvetica,sans-Serif\" font-size=\"14.00\">value = [791, 70]</text>\n",
       "</g>\n",
       "<!-- 9&#45;&gt;11 -->\n",
       "<g id=\"edge11\" class=\"edge\">\n",
       "<title>9&#45;&gt;11</title>\n",
       "<path fill=\"none\" stroke=\"black\" d=\"M655.03,-88.95C661.96,-79.98 669.46,-70.27 676.42,-61.26\"/>\n",
       "<polygon fill=\"black\" stroke=\"black\" points=\"679.28,-63.29 682.62,-53.24 673.74,-59.01 679.28,-63.29\"/>\n",
       "</g>\n",
       "<!-- 13 -->\n",
       "<g id=\"node14\" class=\"node\">\n",
       "<title>13</title>\n",
       "<polygon fill=\"none\" stroke=\"black\" points=\"1009,-53 878,-53 878,0 1009,0 1009,-53\"/>\n",
       "<text text-anchor=\"middle\" x=\"943.5\" y=\"-37.8\" font-family=\"Helvetica,sans-Serif\" font-size=\"14.00\">gini = 0.375</text>\n",
       "<text text-anchor=\"middle\" x=\"943.5\" y=\"-22.8\" font-family=\"Helvetica,sans-Serif\" font-size=\"14.00\">samples = 60</text>\n",
       "<text text-anchor=\"middle\" x=\"943.5\" y=\"-7.8\" font-family=\"Helvetica,sans-Serif\" font-size=\"14.00\">value = [45, 15]</text>\n",
       "</g>\n",
       "<!-- 12&#45;&gt;13 -->\n",
       "<g id=\"edge13\" class=\"edge\">\n",
       "<title>12&#45;&gt;13</title>\n",
       "<path fill=\"none\" stroke=\"black\" d=\"M981.21,-88.95C975.82,-80.17 969.99,-70.66 964.56,-61.82\"/>\n",
       "<polygon fill=\"black\" stroke=\"black\" points=\"967.51,-59.93 959.3,-53.24 961.54,-63.59 967.51,-59.93\"/>\n",
       "</g>\n",
       "<!-- 14 -->\n",
       "<g id=\"node15\" class=\"node\">\n",
       "<title>14</title>\n",
       "<polygon fill=\"none\" stroke=\"black\" points=\"1140,-53 1027,-53 1027,0 1140,0 1140,-53\"/>\n",
       "<text text-anchor=\"middle\" x=\"1083.5\" y=\"-37.8\" font-family=\"Helvetica,sans-Serif\" font-size=\"14.00\">gini = 0.426</text>\n",
       "<text text-anchor=\"middle\" x=\"1083.5\" y=\"-22.8\" font-family=\"Helvetica,sans-Serif\" font-size=\"14.00\">samples = 13</text>\n",
       "<text text-anchor=\"middle\" x=\"1083.5\" y=\"-7.8\" font-family=\"Helvetica,sans-Serif\" font-size=\"14.00\">value = [4, 9]</text>\n",
       "</g>\n",
       "<!-- 12&#45;&gt;14 -->\n",
       "<g id=\"edge14\" class=\"edge\">\n",
       "<title>12&#45;&gt;14</title>\n",
       "<path fill=\"none\" stroke=\"black\" d=\"M1030.18,-88.95C1038.04,-79.89 1046.56,-70.07 1054.44,-60.99\"/>\n",
       "<polygon fill=\"black\" stroke=\"black\" points=\"1057.26,-63.08 1061.17,-53.24 1051.97,-58.5 1057.26,-63.08\"/>\n",
       "</g>\n",
       "<!-- 16 -->\n",
       "<g id=\"node17\" class=\"node\">\n",
       "<title>16</title>\n",
       "<polygon fill=\"none\" stroke=\"black\" points=\"1676.5,-261 1536.5,-261 1536.5,-193 1676.5,-193 1676.5,-261\"/>\n",
       "<text text-anchor=\"middle\" x=\"1606.5\" y=\"-245.8\" font-family=\"Helvetica,sans-Serif\" font-size=\"14.00\">age &lt;= 30.5</text>\n",
       "<text text-anchor=\"middle\" x=\"1606.5\" y=\"-230.8\" font-family=\"Helvetica,sans-Serif\" font-size=\"14.00\">gini = 0.361</text>\n",
       "<text text-anchor=\"middle\" x=\"1606.5\" y=\"-215.8\" font-family=\"Helvetica,sans-Serif\" font-size=\"14.00\">samples = 161</text>\n",
       "<text text-anchor=\"middle\" x=\"1606.5\" y=\"-200.8\" font-family=\"Helvetica,sans-Serif\" font-size=\"14.00\">value = [123, 38]</text>\n",
       "</g>\n",
       "<!-- 15&#45;&gt;16 -->\n",
       "<g id=\"edge16\" class=\"edge\">\n",
       "<title>15&#45;&gt;16</title>\n",
       "<path fill=\"none\" stroke=\"black\" d=\"M1675.38,-296.88C1666.3,-287.8 1656.35,-277.85 1646.9,-268.4\"/>\n",
       "<polygon fill=\"black\" stroke=\"black\" points=\"1649.35,-265.9 1639.8,-261.3 1644.4,-270.85 1649.35,-265.9\"/>\n",
       "</g>\n",
       "<!-- 23 -->\n",
       "<g id=\"node24\" class=\"node\">\n",
       "<title>23</title>\n",
       "<polygon fill=\"none\" stroke=\"black\" points=\"1924,-261 1695,-261 1695,-193 1924,-193 1924,-261\"/>\n",
       "<text text-anchor=\"middle\" x=\"1809.5\" y=\"-245.8\" font-family=\"Helvetica,sans-Serif\" font-size=\"14.00\">NumberOfDependents &lt;= 1.5</text>\n",
       "<text text-anchor=\"middle\" x=\"1809.5\" y=\"-230.8\" font-family=\"Helvetica,sans-Serif\" font-size=\"14.00\">gini = 0.493</text>\n",
       "<text text-anchor=\"middle\" x=\"1809.5\" y=\"-215.8\" font-family=\"Helvetica,sans-Serif\" font-size=\"14.00\">samples = 25</text>\n",
       "<text text-anchor=\"middle\" x=\"1809.5\" y=\"-200.8\" font-family=\"Helvetica,sans-Serif\" font-size=\"14.00\">value = [11, 14]</text>\n",
       "</g>\n",
       "<!-- 15&#45;&gt;23 -->\n",
       "<g id=\"edge23\" class=\"edge\">\n",
       "<title>15&#45;&gt;23</title>\n",
       "<path fill=\"none\" stroke=\"black\" d=\"M1741.29,-296.88C1750.2,-287.89 1759.95,-278.04 1769.22,-268.68\"/>\n",
       "<polygon fill=\"black\" stroke=\"black\" points=\"1771.98,-270.87 1776.53,-261.3 1767,-265.94 1771.98,-270.87\"/>\n",
       "</g>\n",
       "<!-- 17 -->\n",
       "<g id=\"node18\" class=\"node\">\n",
       "<title>17</title>\n",
       "<polygon fill=\"none\" stroke=\"black\" points=\"1524.5,-157 1196.5,-157 1196.5,-89 1524.5,-89 1524.5,-157\"/>\n",
       "<text text-anchor=\"middle\" x=\"1360.5\" y=\"-141.8\" font-family=\"Helvetica,sans-Serif\" font-size=\"14.00\">NumberOfOpenCreditLinesAndLoans &lt;= 3.5</text>\n",
       "<text text-anchor=\"middle\" x=\"1360.5\" y=\"-126.8\" font-family=\"Helvetica,sans-Serif\" font-size=\"14.00\">gini = 0.494</text>\n",
       "<text text-anchor=\"middle\" x=\"1360.5\" y=\"-111.8\" font-family=\"Helvetica,sans-Serif\" font-size=\"14.00\">samples = 18</text>\n",
       "<text text-anchor=\"middle\" x=\"1360.5\" y=\"-96.8\" font-family=\"Helvetica,sans-Serif\" font-size=\"14.00\">value = [8, 10]</text>\n",
       "</g>\n",
       "<!-- 16&#45;&gt;17 -->\n",
       "<g id=\"edge17\" class=\"edge\">\n",
       "<title>16&#45;&gt;17</title>\n",
       "<path fill=\"none\" stroke=\"black\" d=\"M1536.34,-196.91C1509.41,-185.74 1478.32,-172.85 1449.84,-161.04\"/>\n",
       "<polygon fill=\"black\" stroke=\"black\" points=\"1450.87,-157.68 1440.29,-157.08 1448.19,-164.15 1450.87,-157.68\"/>\n",
       "</g>\n",
       "<!-- 20 -->\n",
       "<g id=\"node21\" class=\"node\">\n",
       "<title>20</title>\n",
       "<polygon fill=\"none\" stroke=\"black\" points=\"1700.5,-157 1542.5,-157 1542.5,-89 1700.5,-89 1700.5,-157\"/>\n",
       "<text text-anchor=\"middle\" x=\"1621.5\" y=\"-141.8\" font-family=\"Helvetica,sans-Serif\" font-size=\"14.00\">DebtRatio &lt;= 0.425</text>\n",
       "<text text-anchor=\"middle\" x=\"1621.5\" y=\"-126.8\" font-family=\"Helvetica,sans-Serif\" font-size=\"14.00\">gini = 0.315</text>\n",
       "<text text-anchor=\"middle\" x=\"1621.5\" y=\"-111.8\" font-family=\"Helvetica,sans-Serif\" font-size=\"14.00\">samples = 143</text>\n",
       "<text text-anchor=\"middle\" x=\"1621.5\" y=\"-96.8\" font-family=\"Helvetica,sans-Serif\" font-size=\"14.00\">value = [115, 28]</text>\n",
       "</g>\n",
       "<!-- 16&#45;&gt;20 -->\n",
       "<g id=\"edge20\" class=\"edge\">\n",
       "<title>16&#45;&gt;20</title>\n",
       "<path fill=\"none\" stroke=\"black\" d=\"M1611.37,-192.88C1612.56,-184.78 1613.86,-175.98 1615.11,-167.47\"/>\n",
       "<polygon fill=\"black\" stroke=\"black\" points=\"1618.61,-167.7 1616.6,-157.3 1611.69,-166.68 1618.61,-167.7\"/>\n",
       "</g>\n",
       "<!-- 18 -->\n",
       "<g id=\"node19\" class=\"node\">\n",
       "<title>18</title>\n",
       "<polygon fill=\"none\" stroke=\"black\" points=\"1286,-53 1173,-53 1173,0 1286,0 1286,-53\"/>\n",
       "<text text-anchor=\"middle\" x=\"1229.5\" y=\"-37.8\" font-family=\"Helvetica,sans-Serif\" font-size=\"14.00\">gini = 0.198</text>\n",
       "<text text-anchor=\"middle\" x=\"1229.5\" y=\"-22.8\" font-family=\"Helvetica,sans-Serif\" font-size=\"14.00\">samples = 9</text>\n",
       "<text text-anchor=\"middle\" x=\"1229.5\" y=\"-7.8\" font-family=\"Helvetica,sans-Serif\" font-size=\"14.00\">value = [1, 8]</text>\n",
       "</g>\n",
       "<!-- 17&#45;&gt;18 -->\n",
       "<g id=\"edge18\" class=\"edge\">\n",
       "<title>17&#45;&gt;18</title>\n",
       "<path fill=\"none\" stroke=\"black\" d=\"M1314.68,-88.95C1301.37,-79.34 1286.86,-68.87 1273.64,-59.34\"/>\n",
       "<polygon fill=\"black\" stroke=\"black\" points=\"1275.34,-56.25 1265.18,-53.24 1271.24,-61.93 1275.34,-56.25\"/>\n",
       "</g>\n",
       "<!-- 19 -->\n",
       "<g id=\"node20\" class=\"node\">\n",
       "<title>19</title>\n",
       "<polygon fill=\"none\" stroke=\"black\" points=\"1417,-53 1304,-53 1304,0 1417,0 1417,-53\"/>\n",
       "<text text-anchor=\"middle\" x=\"1360.5\" y=\"-37.8\" font-family=\"Helvetica,sans-Serif\" font-size=\"14.00\">gini = 0.346</text>\n",
       "<text text-anchor=\"middle\" x=\"1360.5\" y=\"-22.8\" font-family=\"Helvetica,sans-Serif\" font-size=\"14.00\">samples = 9</text>\n",
       "<text text-anchor=\"middle\" x=\"1360.5\" y=\"-7.8\" font-family=\"Helvetica,sans-Serif\" font-size=\"14.00\">value = [7, 2]</text>\n",
       "</g>\n",
       "<!-- 17&#45;&gt;19 -->\n",
       "<g id=\"edge19\" class=\"edge\">\n",
       "<title>17&#45;&gt;19</title>\n",
       "<path fill=\"none\" stroke=\"black\" d=\"M1360.5,-88.95C1360.5,-80.72 1360.5,-71.85 1360.5,-63.48\"/>\n",
       "<polygon fill=\"black\" stroke=\"black\" points=\"1364,-63.24 1360.5,-53.24 1357,-63.24 1364,-63.24\"/>\n",
       "</g>\n",
       "<!-- 21 -->\n",
       "<g id=\"node22\" class=\"node\">\n",
       "<title>21</title>\n",
       "<polygon fill=\"none\" stroke=\"black\" points=\"1566,-53 1435,-53 1435,0 1566,0 1566,-53\"/>\n",
       "<text text-anchor=\"middle\" x=\"1500.5\" y=\"-37.8\" font-family=\"Helvetica,sans-Serif\" font-size=\"14.00\">gini = 0.221</text>\n",
       "<text text-anchor=\"middle\" x=\"1500.5\" y=\"-22.8\" font-family=\"Helvetica,sans-Serif\" font-size=\"14.00\">samples = 95</text>\n",
       "<text text-anchor=\"middle\" x=\"1500.5\" y=\"-7.8\" font-family=\"Helvetica,sans-Serif\" font-size=\"14.00\">value = [83, 12]</text>\n",
       "</g>\n",
       "<!-- 20&#45;&gt;21 -->\n",
       "<g id=\"edge21\" class=\"edge\">\n",
       "<title>20&#45;&gt;21</title>\n",
       "<path fill=\"none\" stroke=\"black\" d=\"M1579.18,-88.95C1567,-79.43 1553.73,-69.07 1541.62,-59.62\"/>\n",
       "<polygon fill=\"black\" stroke=\"black\" points=\"1543.49,-56.63 1533.45,-53.24 1539.18,-62.15 1543.49,-56.63\"/>\n",
       "</g>\n",
       "<!-- 22 -->\n",
       "<g id=\"node23\" class=\"node\">\n",
       "<title>22</title>\n",
       "<polygon fill=\"none\" stroke=\"black\" points=\"1715,-53 1584,-53 1584,0 1715,0 1715,-53\"/>\n",
       "<text text-anchor=\"middle\" x=\"1649.5\" y=\"-37.8\" font-family=\"Helvetica,sans-Serif\" font-size=\"14.00\">gini = 0.444</text>\n",
       "<text text-anchor=\"middle\" x=\"1649.5\" y=\"-22.8\" font-family=\"Helvetica,sans-Serif\" font-size=\"14.00\">samples = 48</text>\n",
       "<text text-anchor=\"middle\" x=\"1649.5\" y=\"-7.8\" font-family=\"Helvetica,sans-Serif\" font-size=\"14.00\">value = [32, 16]</text>\n",
       "</g>\n",
       "<!-- 20&#45;&gt;22 -->\n",
       "<g id=\"edge22\" class=\"edge\">\n",
       "<title>20&#45;&gt;22</title>\n",
       "<path fill=\"none\" stroke=\"black\" d=\"M1631.29,-88.95C1633.79,-80.53 1636.48,-71.45 1639,-62.92\"/>\n",
       "<polygon fill=\"black\" stroke=\"black\" points=\"1642.39,-63.82 1641.87,-53.24 1635.68,-61.83 1642.39,-63.82\"/>\n",
       "</g>\n",
       "<!-- 24 -->\n",
       "<g id=\"node25\" class=\"node\">\n",
       "<title>24</title>\n",
       "<polygon fill=\"none\" stroke=\"black\" points=\"1855.5,-157 1733.5,-157 1733.5,-89 1855.5,-89 1855.5,-157\"/>\n",
       "<text text-anchor=\"middle\" x=\"1794.5\" y=\"-141.8\" font-family=\"Helvetica,sans-Serif\" font-size=\"14.00\">age &lt;= 68.5</text>\n",
       "<text text-anchor=\"middle\" x=\"1794.5\" y=\"-126.8\" font-family=\"Helvetica,sans-Serif\" font-size=\"14.00\">gini = 0.42</text>\n",
       "<text text-anchor=\"middle\" x=\"1794.5\" y=\"-111.8\" font-family=\"Helvetica,sans-Serif\" font-size=\"14.00\">samples = 20</text>\n",
       "<text text-anchor=\"middle\" x=\"1794.5\" y=\"-96.8\" font-family=\"Helvetica,sans-Serif\" font-size=\"14.00\">value = [6, 14]</text>\n",
       "</g>\n",
       "<!-- 23&#45;&gt;24 -->\n",
       "<g id=\"edge24\" class=\"edge\">\n",
       "<title>23&#45;&gt;24</title>\n",
       "<path fill=\"none\" stroke=\"black\" d=\"M1804.63,-192.88C1803.44,-184.78 1802.14,-175.98 1800.89,-167.47\"/>\n",
       "<polygon fill=\"black\" stroke=\"black\" points=\"1804.31,-166.68 1799.4,-157.3 1797.39,-167.7 1804.31,-166.68\"/>\n",
       "</g>\n",
       "<!-- 27 -->\n",
       "<g id=\"node28\" class=\"node\">\n",
       "<title>27</title>\n",
       "<polygon fill=\"none\" stroke=\"black\" points=\"1987,-149.5 1874,-149.5 1874,-96.5 1987,-96.5 1987,-149.5\"/>\n",
       "<text text-anchor=\"middle\" x=\"1930.5\" y=\"-134.3\" font-family=\"Helvetica,sans-Serif\" font-size=\"14.00\">gini = 0.0</text>\n",
       "<text text-anchor=\"middle\" x=\"1930.5\" y=\"-119.3\" font-family=\"Helvetica,sans-Serif\" font-size=\"14.00\">samples = 5</text>\n",
       "<text text-anchor=\"middle\" x=\"1930.5\" y=\"-104.3\" font-family=\"Helvetica,sans-Serif\" font-size=\"14.00\">value = [5, 0]</text>\n",
       "</g>\n",
       "<!-- 23&#45;&gt;27 -->\n",
       "<g id=\"edge27\" class=\"edge\">\n",
       "<title>23&#45;&gt;27</title>\n",
       "<path fill=\"none\" stroke=\"black\" d=\"M1848.79,-192.88C1862.74,-181.12 1878.43,-167.89 1892.3,-156.2\"/>\n",
       "<polygon fill=\"black\" stroke=\"black\" points=\"1894.84,-158.64 1900.23,-149.52 1890.32,-153.29 1894.84,-158.64\"/>\n",
       "</g>\n",
       "<!-- 25 -->\n",
       "<g id=\"node26\" class=\"node\">\n",
       "<title>25</title>\n",
       "<polygon fill=\"none\" stroke=\"black\" points=\"1855.5,-53 1733.5,-53 1733.5,0 1855.5,0 1855.5,-53\"/>\n",
       "<text text-anchor=\"middle\" x=\"1794.5\" y=\"-37.8\" font-family=\"Helvetica,sans-Serif\" font-size=\"14.00\">gini = 0.305</text>\n",
       "<text text-anchor=\"middle\" x=\"1794.5\" y=\"-22.8\" font-family=\"Helvetica,sans-Serif\" font-size=\"14.00\">samples = 16</text>\n",
       "<text text-anchor=\"middle\" x=\"1794.5\" y=\"-7.8\" font-family=\"Helvetica,sans-Serif\" font-size=\"14.00\">value = [3, 13]</text>\n",
       "</g>\n",
       "<!-- 24&#45;&gt;25 -->\n",
       "<g id=\"edge25\" class=\"edge\">\n",
       "<title>24&#45;&gt;25</title>\n",
       "<path fill=\"none\" stroke=\"black\" d=\"M1794.5,-88.95C1794.5,-80.72 1794.5,-71.85 1794.5,-63.48\"/>\n",
       "<polygon fill=\"black\" stroke=\"black\" points=\"1798,-63.24 1794.5,-53.24 1791,-63.24 1798,-63.24\"/>\n",
       "</g>\n",
       "<!-- 26 -->\n",
       "<g id=\"node27\" class=\"node\">\n",
       "<title>26</title>\n",
       "<polygon fill=\"none\" stroke=\"black\" points=\"1987,-53 1874,-53 1874,0 1987,0 1987,-53\"/>\n",
       "<text text-anchor=\"middle\" x=\"1930.5\" y=\"-37.8\" font-family=\"Helvetica,sans-Serif\" font-size=\"14.00\">gini = 0.375</text>\n",
       "<text text-anchor=\"middle\" x=\"1930.5\" y=\"-22.8\" font-family=\"Helvetica,sans-Serif\" font-size=\"14.00\">samples = 4</text>\n",
       "<text text-anchor=\"middle\" x=\"1930.5\" y=\"-7.8\" font-family=\"Helvetica,sans-Serif\" font-size=\"14.00\">value = [3, 1]</text>\n",
       "</g>\n",
       "<!-- 24&#45;&gt;26 -->\n",
       "<g id=\"edge26\" class=\"edge\">\n",
       "<title>24&#45;&gt;26</title>\n",
       "<path fill=\"none\" stroke=\"black\" d=\"M1842.07,-88.95C1856.02,-79.25 1871.24,-68.68 1885.06,-59.07\"/>\n",
       "<polygon fill=\"black\" stroke=\"black\" points=\"1887.25,-61.82 1893.46,-53.24 1883.25,-56.07 1887.25,-61.82\"/>\n",
       "</g>\n",
       "<!-- 29 -->\n",
       "<g id=\"node30\" class=\"node\">\n",
       "<title>29</title>\n",
       "<polygon fill=\"none\" stroke=\"black\" points=\"2619.5,-365 2351.5,-365 2351.5,-297 2619.5,-297 2619.5,-365\"/>\n",
       "<text text-anchor=\"middle\" x=\"2485.5\" y=\"-349.8\" font-family=\"Helvetica,sans-Serif\" font-size=\"14.00\">NumberOfTimes90DaysLate &lt;= 0.5</text>\n",
       "<text text-anchor=\"middle\" x=\"2485.5\" y=\"-334.8\" font-family=\"Helvetica,sans-Serif\" font-size=\"14.00\">gini = 0.383</text>\n",
       "<text text-anchor=\"middle\" x=\"2485.5\" y=\"-319.8\" font-family=\"Helvetica,sans-Serif\" font-size=\"14.00\">samples = 159</text>\n",
       "<text text-anchor=\"middle\" x=\"2485.5\" y=\"-304.8\" font-family=\"Helvetica,sans-Serif\" font-size=\"14.00\">value = [118, 41]</text>\n",
       "</g>\n",
       "<!-- 28&#45;&gt;29 -->\n",
       "<g id=\"edge29\" class=\"edge\">\n",
       "<title>28&#45;&gt;29</title>\n",
       "<path fill=\"none\" stroke=\"black\" d=\"M2485.5,-400.88C2485.5,-392.78 2485.5,-383.98 2485.5,-375.47\"/>\n",
       "<polygon fill=\"black\" stroke=\"black\" points=\"2489,-375.3 2485.5,-365.3 2482,-375.3 2489,-375.3\"/>\n",
       "</g>\n",
       "<!-- 42 -->\n",
       "<g id=\"node43\" class=\"node\">\n",
       "<title>42</title>\n",
       "<polygon fill=\"none\" stroke=\"black\" points=\"3329,-365 3100,-365 3100,-297 3329,-297 3329,-365\"/>\n",
       "<text text-anchor=\"middle\" x=\"3214.5\" y=\"-349.8\" font-family=\"Helvetica,sans-Serif\" font-size=\"14.00\">NumberOfDependents &lt;= 1.5</text>\n",
       "<text text-anchor=\"middle\" x=\"3214.5\" y=\"-334.8\" font-family=\"Helvetica,sans-Serif\" font-size=\"14.00\">gini = 0.499</text>\n",
       "<text text-anchor=\"middle\" x=\"3214.5\" y=\"-319.8\" font-family=\"Helvetica,sans-Serif\" font-size=\"14.00\">samples = 110</text>\n",
       "<text text-anchor=\"middle\" x=\"3214.5\" y=\"-304.8\" font-family=\"Helvetica,sans-Serif\" font-size=\"14.00\">value = [52, 58]</text>\n",
       "</g>\n",
       "<!-- 28&#45;&gt;42 -->\n",
       "<g id=\"edge42\" class=\"edge\">\n",
       "<title>28&#45;&gt;42</title>\n",
       "<path fill=\"none\" stroke=\"black\" d=\"M2662.9,-409.18C2795.07,-390.69 2972.28,-365.89 3089.76,-349.45\"/>\n",
       "<polygon fill=\"black\" stroke=\"black\" points=\"3090.46,-352.89 3099.88,-348.04 3089.49,-345.96 3090.46,-352.89\"/>\n",
       "</g>\n",
       "<!-- 30 -->\n",
       "<g id=\"node31\" class=\"node\">\n",
       "<title>30</title>\n",
       "<polygon fill=\"none\" stroke=\"black\" points=\"2476,-261 2097,-261 2097,-193 2476,-193 2476,-261\"/>\n",
       "<text text-anchor=\"middle\" x=\"2286.5\" y=\"-245.8\" font-family=\"Helvetica,sans-Serif\" font-size=\"14.00\">NumberOfTime60&#45;89DaysPastDueNotWorse &lt;= 2.5</text>\n",
       "<text text-anchor=\"middle\" x=\"2286.5\" y=\"-230.8\" font-family=\"Helvetica,sans-Serif\" font-size=\"14.00\">gini = 0.309</text>\n",
       "<text text-anchor=\"middle\" x=\"2286.5\" y=\"-215.8\" font-family=\"Helvetica,sans-Serif\" font-size=\"14.00\">samples = 110</text>\n",
       "<text text-anchor=\"middle\" x=\"2286.5\" y=\"-200.8\" font-family=\"Helvetica,sans-Serif\" font-size=\"14.00\">value = [89, 21]</text>\n",
       "</g>\n",
       "<!-- 29&#45;&gt;30 -->\n",
       "<g id=\"edge30\" class=\"edge\">\n",
       "<title>29&#45;&gt;30</title>\n",
       "<path fill=\"none\" stroke=\"black\" d=\"M2420.89,-296.88C2401.5,-286.95 2380.09,-275.97 2360.16,-265.76\"/>\n",
       "<polygon fill=\"black\" stroke=\"black\" points=\"2361.62,-262.57 2351.13,-261.12 2358.43,-268.8 2361.62,-262.57\"/>\n",
       "</g>\n",
       "<!-- 35 -->\n",
       "<g id=\"node36\" class=\"node\">\n",
       "<title>35</title>\n",
       "<polygon fill=\"none\" stroke=\"black\" points=\"2873,-261 2494,-261 2494,-193 2873,-193 2873,-261\"/>\n",
       "<text text-anchor=\"middle\" x=\"2683.5\" y=\"-245.8\" font-family=\"Helvetica,sans-Serif\" font-size=\"14.00\">NumberOfTime30&#45;59DaysPastDueNotWorse &lt;= 2.5</text>\n",
       "<text text-anchor=\"middle\" x=\"2683.5\" y=\"-230.8\" font-family=\"Helvetica,sans-Serif\" font-size=\"14.00\">gini = 0.483</text>\n",
       "<text text-anchor=\"middle\" x=\"2683.5\" y=\"-215.8\" font-family=\"Helvetica,sans-Serif\" font-size=\"14.00\">samples = 49</text>\n",
       "<text text-anchor=\"middle\" x=\"2683.5\" y=\"-200.8\" font-family=\"Helvetica,sans-Serif\" font-size=\"14.00\">value = [29, 20]</text>\n",
       "</g>\n",
       "<!-- 29&#45;&gt;35 -->\n",
       "<g id=\"edge35\" class=\"edge\">\n",
       "<title>29&#45;&gt;35</title>\n",
       "<path fill=\"none\" stroke=\"black\" d=\"M2549.78,-296.88C2569.08,-286.95 2590.38,-275.97 2610.21,-265.76\"/>\n",
       "<polygon fill=\"black\" stroke=\"black\" points=\"2611.91,-268.82 2619.2,-261.12 2608.71,-262.59 2611.91,-268.82\"/>\n",
       "</g>\n",
       "<!-- 31 -->\n",
       "<g id=\"node32\" class=\"node\">\n",
       "<title>31</title>\n",
       "<polygon fill=\"none\" stroke=\"black\" points=\"2342,-157 2005,-157 2005,-89 2342,-89 2342,-157\"/>\n",
       "<text text-anchor=\"middle\" x=\"2173.5\" y=\"-141.8\" font-family=\"Helvetica,sans-Serif\" font-size=\"14.00\">NumberOfOpenCreditLinesAndLoans &lt;= 21.5</text>\n",
       "<text text-anchor=\"middle\" x=\"2173.5\" y=\"-126.8\" font-family=\"Helvetica,sans-Serif\" font-size=\"14.00\">gini = 0.29</text>\n",
       "<text text-anchor=\"middle\" x=\"2173.5\" y=\"-111.8\" font-family=\"Helvetica,sans-Serif\" font-size=\"14.00\">samples = 108</text>\n",
       "<text text-anchor=\"middle\" x=\"2173.5\" y=\"-96.8\" font-family=\"Helvetica,sans-Serif\" font-size=\"14.00\">value = [89, 19]</text>\n",
       "</g>\n",
       "<!-- 30&#45;&gt;31 -->\n",
       "<g id=\"edge31\" class=\"edge\">\n",
       "<title>30&#45;&gt;31</title>\n",
       "<path fill=\"none\" stroke=\"black\" d=\"M2249.81,-192.88C2239.65,-183.71 2228.5,-173.65 2217.95,-164.12\"/>\n",
       "<polygon fill=\"black\" stroke=\"black\" points=\"2220.16,-161.4 2210.39,-157.3 2215.47,-166.6 2220.16,-161.4\"/>\n",
       "</g>\n",
       "<!-- 34 -->\n",
       "<g id=\"node35\" class=\"node\">\n",
       "<title>34</title>\n",
       "<polygon fill=\"none\" stroke=\"black\" points=\"2473,-149.5 2360,-149.5 2360,-96.5 2473,-96.5 2473,-149.5\"/>\n",
       "<text text-anchor=\"middle\" x=\"2416.5\" y=\"-134.3\" font-family=\"Helvetica,sans-Serif\" font-size=\"14.00\">gini = 0.0</text>\n",
       "<text text-anchor=\"middle\" x=\"2416.5\" y=\"-119.3\" font-family=\"Helvetica,sans-Serif\" font-size=\"14.00\">samples = 2</text>\n",
       "<text text-anchor=\"middle\" x=\"2416.5\" y=\"-104.3\" font-family=\"Helvetica,sans-Serif\" font-size=\"14.00\">value = [0, 2]</text>\n",
       "</g>\n",
       "<!-- 30&#45;&gt;34 -->\n",
       "<g id=\"edge34\" class=\"edge\">\n",
       "<title>30&#45;&gt;34</title>\n",
       "<path fill=\"none\" stroke=\"black\" d=\"M2328.71,-192.88C2343.85,-181.01 2360.87,-167.65 2375.87,-155.88\"/>\n",
       "<polygon fill=\"black\" stroke=\"black\" points=\"2378.27,-158.45 2383.97,-149.52 2373.95,-152.94 2378.27,-158.45\"/>\n",
       "</g>\n",
       "<!-- 32 -->\n",
       "<g id=\"node33\" class=\"node\">\n",
       "<title>32</title>\n",
       "<polygon fill=\"none\" stroke=\"black\" points=\"2188,-53 2057,-53 2057,0 2188,0 2188,-53\"/>\n",
       "<text text-anchor=\"middle\" x=\"2122.5\" y=\"-37.8\" font-family=\"Helvetica,sans-Serif\" font-size=\"14.00\">gini = 0.271</text>\n",
       "<text text-anchor=\"middle\" x=\"2122.5\" y=\"-22.8\" font-family=\"Helvetica,sans-Serif\" font-size=\"14.00\">samples = 105</text>\n",
       "<text text-anchor=\"middle\" x=\"2122.5\" y=\"-7.8\" font-family=\"Helvetica,sans-Serif\" font-size=\"14.00\">value = [88, 17]</text>\n",
       "</g>\n",
       "<!-- 31&#45;&gt;32 -->\n",
       "<g id=\"edge32\" class=\"edge\">\n",
       "<title>31&#45;&gt;32</title>\n",
       "<path fill=\"none\" stroke=\"black\" d=\"M2155.66,-88.95C2150.97,-80.26 2145.9,-70.86 2141.17,-62.09\"/>\n",
       "<polygon fill=\"black\" stroke=\"black\" points=\"2144.22,-60.37 2136.39,-53.24 2138.06,-63.7 2144.22,-60.37\"/>\n",
       "</g>\n",
       "<!-- 33 -->\n",
       "<g id=\"node34\" class=\"node\">\n",
       "<title>33</title>\n",
       "<polygon fill=\"none\" stroke=\"black\" points=\"2319,-53 2206,-53 2206,0 2319,0 2319,-53\"/>\n",
       "<text text-anchor=\"middle\" x=\"2262.5\" y=\"-37.8\" font-family=\"Helvetica,sans-Serif\" font-size=\"14.00\">gini = 0.444</text>\n",
       "<text text-anchor=\"middle\" x=\"2262.5\" y=\"-22.8\" font-family=\"Helvetica,sans-Serif\" font-size=\"14.00\">samples = 3</text>\n",
       "<text text-anchor=\"middle\" x=\"2262.5\" y=\"-7.8\" font-family=\"Helvetica,sans-Serif\" font-size=\"14.00\">value = [1, 2]</text>\n",
       "</g>\n",
       "<!-- 31&#45;&gt;33 -->\n",
       "<g id=\"edge33\" class=\"edge\">\n",
       "<title>31&#45;&gt;33</title>\n",
       "<path fill=\"none\" stroke=\"black\" d=\"M2204.63,-88.95C2213.24,-79.8 2222.6,-69.87 2231.22,-60.71\"/>\n",
       "<polygon fill=\"black\" stroke=\"black\" points=\"2233.95,-62.92 2238.26,-53.24 2228.86,-58.12 2233.95,-62.92\"/>\n",
       "</g>\n",
       "<!-- 36 -->\n",
       "<g id=\"node37\" class=\"node\">\n",
       "<title>36</title>\n",
       "<polygon fill=\"none\" stroke=\"black\" points=\"2697.5,-157 2491.5,-157 2491.5,-89 2697.5,-89 2697.5,-157\"/>\n",
       "<text text-anchor=\"middle\" x=\"2594.5\" y=\"-141.8\" font-family=\"Helvetica,sans-Serif\" font-size=\"14.00\">MonthlyIncome &lt;= 7750.0</text>\n",
       "<text text-anchor=\"middle\" x=\"2594.5\" y=\"-126.8\" font-family=\"Helvetica,sans-Serif\" font-size=\"14.00\">gini = 0.411</text>\n",
       "<text text-anchor=\"middle\" x=\"2594.5\" y=\"-111.8\" font-family=\"Helvetica,sans-Serif\" font-size=\"14.00\">samples = 38</text>\n",
       "<text text-anchor=\"middle\" x=\"2594.5\" y=\"-96.8\" font-family=\"Helvetica,sans-Serif\" font-size=\"14.00\">value = [27, 11]</text>\n",
       "</g>\n",
       "<!-- 35&#45;&gt;36 -->\n",
       "<g id=\"edge36\" class=\"edge\">\n",
       "<title>35&#45;&gt;36</title>\n",
       "<path fill=\"none\" stroke=\"black\" d=\"M2654.6,-192.88C2646.83,-183.98 2638.33,-174.24 2630.24,-164.96\"/>\n",
       "<polygon fill=\"black\" stroke=\"black\" points=\"2632.77,-162.53 2623.56,-157.3 2627.49,-167.14 2632.77,-162.53\"/>\n",
       "</g>\n",
       "<!-- 39 -->\n",
       "<g id=\"node40\" class=\"node\">\n",
       "<title>39</title>\n",
       "<polygon fill=\"none\" stroke=\"black\" points=\"2829,-157 2716,-157 2716,-89 2829,-89 2829,-157\"/>\n",
       "<text text-anchor=\"middle\" x=\"2772.5\" y=\"-141.8\" font-family=\"Helvetica,sans-Serif\" font-size=\"14.00\">age &lt;= 60.5</text>\n",
       "<text text-anchor=\"middle\" x=\"2772.5\" y=\"-126.8\" font-family=\"Helvetica,sans-Serif\" font-size=\"14.00\">gini = 0.298</text>\n",
       "<text text-anchor=\"middle\" x=\"2772.5\" y=\"-111.8\" font-family=\"Helvetica,sans-Serif\" font-size=\"14.00\">samples = 11</text>\n",
       "<text text-anchor=\"middle\" x=\"2772.5\" y=\"-96.8\" font-family=\"Helvetica,sans-Serif\" font-size=\"14.00\">value = [2, 9]</text>\n",
       "</g>\n",
       "<!-- 35&#45;&gt;39 -->\n",
       "<g id=\"edge39\" class=\"edge\">\n",
       "<title>35&#45;&gt;39</title>\n",
       "<path fill=\"none\" stroke=\"black\" d=\"M2712.4,-192.88C2720.17,-183.98 2728.67,-174.24 2736.76,-164.96\"/>\n",
       "<polygon fill=\"black\" stroke=\"black\" points=\"2739.51,-167.14 2743.44,-157.3 2734.23,-162.53 2739.51,-167.14\"/>\n",
       "</g>\n",
       "<!-- 37 -->\n",
       "<g id=\"node38\" class=\"node\">\n",
       "<title>37</title>\n",
       "<polygon fill=\"none\" stroke=\"black\" points=\"2521.5,-53 2399.5,-53 2399.5,0 2521.5,0 2521.5,-53\"/>\n",
       "<text text-anchor=\"middle\" x=\"2460.5\" y=\"-37.8\" font-family=\"Helvetica,sans-Serif\" font-size=\"14.00\">gini = 0.375</text>\n",
       "<text text-anchor=\"middle\" x=\"2460.5\" y=\"-22.8\" font-family=\"Helvetica,sans-Serif\" font-size=\"14.00\">samples = 36</text>\n",
       "<text text-anchor=\"middle\" x=\"2460.5\" y=\"-7.8\" font-family=\"Helvetica,sans-Serif\" font-size=\"14.00\">value = [27, 9]</text>\n",
       "</g>\n",
       "<!-- 36&#45;&gt;37 -->\n",
       "<g id=\"edge37\" class=\"edge\">\n",
       "<title>36&#45;&gt;37</title>\n",
       "<path fill=\"none\" stroke=\"black\" d=\"M2547.63,-88.95C2533.88,-79.25 2518.89,-68.68 2505.27,-59.07\"/>\n",
       "<polygon fill=\"black\" stroke=\"black\" points=\"2507.18,-56.14 2496.99,-53.24 2503.15,-61.86 2507.18,-56.14\"/>\n",
       "</g>\n",
       "<!-- 38 -->\n",
       "<g id=\"node39\" class=\"node\">\n",
       "<title>38</title>\n",
       "<polygon fill=\"none\" stroke=\"black\" points=\"2653,-53 2540,-53 2540,0 2653,0 2653,-53\"/>\n",
       "<text text-anchor=\"middle\" x=\"2596.5\" y=\"-37.8\" font-family=\"Helvetica,sans-Serif\" font-size=\"14.00\">gini = 0.0</text>\n",
       "<text text-anchor=\"middle\" x=\"2596.5\" y=\"-22.8\" font-family=\"Helvetica,sans-Serif\" font-size=\"14.00\">samples = 2</text>\n",
       "<text text-anchor=\"middle\" x=\"2596.5\" y=\"-7.8\" font-family=\"Helvetica,sans-Serif\" font-size=\"14.00\">value = [0, 2]</text>\n",
       "</g>\n",
       "<!-- 36&#45;&gt;38 -->\n",
       "<g id=\"edge38\" class=\"edge\">\n",
       "<title>36&#45;&gt;38</title>\n",
       "<path fill=\"none\" stroke=\"black\" d=\"M2595.2,-88.95C2595.37,-80.72 2595.56,-71.85 2595.74,-63.48\"/>\n",
       "<polygon fill=\"black\" stroke=\"black\" points=\"2599.24,-63.31 2595.96,-53.24 2592.24,-63.16 2599.24,-63.31\"/>\n",
       "</g>\n",
       "<!-- 40 -->\n",
       "<g id=\"node41\" class=\"node\">\n",
       "<title>40</title>\n",
       "<polygon fill=\"none\" stroke=\"black\" points=\"2786,-53 2673,-53 2673,0 2786,0 2786,-53\"/>\n",
       "<text text-anchor=\"middle\" x=\"2729.5\" y=\"-37.8\" font-family=\"Helvetica,sans-Serif\" font-size=\"14.00\">gini = 0.0</text>\n",
       "<text text-anchor=\"middle\" x=\"2729.5\" y=\"-22.8\" font-family=\"Helvetica,sans-Serif\" font-size=\"14.00\">samples = 8</text>\n",
       "<text text-anchor=\"middle\" x=\"2729.5\" y=\"-7.8\" font-family=\"Helvetica,sans-Serif\" font-size=\"14.00\">value = [0, 8]</text>\n",
       "</g>\n",
       "<!-- 39&#45;&gt;40 -->\n",
       "<g id=\"edge40\" class=\"edge\">\n",
       "<title>39&#45;&gt;40</title>\n",
       "<path fill=\"none\" stroke=\"black\" d=\"M2757.46,-88.95C2753.55,-80.35 2749.32,-71.06 2745.37,-62.37\"/>\n",
       "<polygon fill=\"black\" stroke=\"black\" points=\"2748.54,-60.89 2741.21,-53.24 2742.17,-63.79 2748.54,-60.89\"/>\n",
       "</g>\n",
       "<!-- 41 -->\n",
       "<g id=\"node42\" class=\"node\">\n",
       "<title>41</title>\n",
       "<polygon fill=\"none\" stroke=\"black\" points=\"2917,-53 2804,-53 2804,0 2917,0 2917,-53\"/>\n",
       "<text text-anchor=\"middle\" x=\"2860.5\" y=\"-37.8\" font-family=\"Helvetica,sans-Serif\" font-size=\"14.00\">gini = 0.444</text>\n",
       "<text text-anchor=\"middle\" x=\"2860.5\" y=\"-22.8\" font-family=\"Helvetica,sans-Serif\" font-size=\"14.00\">samples = 3</text>\n",
       "<text text-anchor=\"middle\" x=\"2860.5\" y=\"-7.8\" font-family=\"Helvetica,sans-Serif\" font-size=\"14.00\">value = [2, 1]</text>\n",
       "</g>\n",
       "<!-- 39&#45;&gt;41 -->\n",
       "<g id=\"edge41\" class=\"edge\">\n",
       "<title>39&#45;&gt;41</title>\n",
       "<path fill=\"none\" stroke=\"black\" d=\"M2803.28,-88.95C2811.8,-79.8 2821.04,-69.87 2829.57,-60.71\"/>\n",
       "<polygon fill=\"black\" stroke=\"black\" points=\"2832.28,-62.94 2836.53,-53.24 2827.16,-58.17 2832.28,-62.94\"/>\n",
       "</g>\n",
       "<!-- 43 -->\n",
       "<g id=\"node44\" class=\"node\">\n",
       "<title>43</title>\n",
       "<polygon fill=\"none\" stroke=\"black\" points=\"3280,-261 3149,-261 3149,-193 3280,-193 3280,-261\"/>\n",
       "<text text-anchor=\"middle\" x=\"3214.5\" y=\"-245.8\" font-family=\"Helvetica,sans-Serif\" font-size=\"14.00\">age &lt;= 43.5</text>\n",
       "<text text-anchor=\"middle\" x=\"3214.5\" y=\"-230.8\" font-family=\"Helvetica,sans-Serif\" font-size=\"14.00\">gini = 0.472</text>\n",
       "<text text-anchor=\"middle\" x=\"3214.5\" y=\"-215.8\" font-family=\"Helvetica,sans-Serif\" font-size=\"14.00\">samples = 81</text>\n",
       "<text text-anchor=\"middle\" x=\"3214.5\" y=\"-200.8\" font-family=\"Helvetica,sans-Serif\" font-size=\"14.00\">value = [31, 50]</text>\n",
       "</g>\n",
       "<!-- 42&#45;&gt;43 -->\n",
       "<g id=\"edge43\" class=\"edge\">\n",
       "<title>42&#45;&gt;43</title>\n",
       "<path fill=\"none\" stroke=\"black\" d=\"M3214.5,-296.88C3214.5,-288.78 3214.5,-279.98 3214.5,-271.47\"/>\n",
       "<polygon fill=\"black\" stroke=\"black\" points=\"3218,-271.3 3214.5,-261.3 3211,-271.3 3218,-271.3\"/>\n",
       "</g>\n",
       "<!-- 50 -->\n",
       "<g id=\"node51\" class=\"node\">\n",
       "<title>50</title>\n",
       "<polygon fill=\"none\" stroke=\"black\" points=\"3912,-261 3567,-261 3567,-193 3912,-193 3912,-261\"/>\n",
       "<text text-anchor=\"middle\" x=\"3739.5\" y=\"-245.8\" font-family=\"Helvetica,sans-Serif\" font-size=\"14.00\">RevolvingUtilizationOfUnsecuredLines &lt;= 0.97</text>\n",
       "<text text-anchor=\"middle\" x=\"3739.5\" y=\"-230.8\" font-family=\"Helvetica,sans-Serif\" font-size=\"14.00\">gini = 0.4</text>\n",
       "<text text-anchor=\"middle\" x=\"3739.5\" y=\"-215.8\" font-family=\"Helvetica,sans-Serif\" font-size=\"14.00\">samples = 29</text>\n",
       "<text text-anchor=\"middle\" x=\"3739.5\" y=\"-200.8\" font-family=\"Helvetica,sans-Serif\" font-size=\"14.00\">value = [21, 8]</text>\n",
       "</g>\n",
       "<!-- 42&#45;&gt;50 -->\n",
       "<g id=\"edge50\" class=\"edge\">\n",
       "<title>42&#45;&gt;50</title>\n",
       "<path fill=\"none\" stroke=\"black\" d=\"M3329.06,-307.74C3396.41,-294.66 3483.06,-277.82 3559.36,-263\"/>\n",
       "<polygon fill=\"black\" stroke=\"black\" points=\"3560.43,-266.36 3569.58,-261.01 3559.09,-259.49 3560.43,-266.36\"/>\n",
       "</g>\n",
       "<!-- 44 -->\n",
       "<g id=\"node45\" class=\"node\">\n",
       "<title>44</title>\n",
       "<polygon fill=\"none\" stroke=\"black\" points=\"3175.5,-157 2847.5,-157 2847.5,-89 3175.5,-89 3175.5,-157\"/>\n",
       "<text text-anchor=\"middle\" x=\"3011.5\" y=\"-141.8\" font-family=\"Helvetica,sans-Serif\" font-size=\"14.00\">NumberOfOpenCreditLinesAndLoans &lt;= 6.5</text>\n",
       "<text text-anchor=\"middle\" x=\"3011.5\" y=\"-126.8\" font-family=\"Helvetica,sans-Serif\" font-size=\"14.00\">gini = 0.49</text>\n",
       "<text text-anchor=\"middle\" x=\"3011.5\" y=\"-111.8\" font-family=\"Helvetica,sans-Serif\" font-size=\"14.00\">samples = 35</text>\n",
       "<text text-anchor=\"middle\" x=\"3011.5\" y=\"-96.8\" font-family=\"Helvetica,sans-Serif\" font-size=\"14.00\">value = [20, 15]</text>\n",
       "</g>\n",
       "<!-- 43&#45;&gt;44 -->\n",
       "<g id=\"edge44\" class=\"edge\">\n",
       "<title>43&#45;&gt;44</title>\n",
       "<path fill=\"none\" stroke=\"black\" d=\"M3148.87,-193.02C3128.89,-182.99 3106.79,-171.88 3086.25,-161.56\"/>\n",
       "<polygon fill=\"black\" stroke=\"black\" points=\"3087.76,-158.4 3077.25,-157.04 3084.61,-164.65 3087.76,-158.4\"/>\n",
       "</g>\n",
       "<!-- 47 -->\n",
       "<g id=\"node48\" class=\"node\">\n",
       "<title>47</title>\n",
       "<polygon fill=\"none\" stroke=\"black\" points=\"3573,-157 3194,-157 3194,-89 3573,-89 3573,-157\"/>\n",
       "<text text-anchor=\"middle\" x=\"3383.5\" y=\"-141.8\" font-family=\"Helvetica,sans-Serif\" font-size=\"14.00\">NumberOfTime30&#45;59DaysPastDueNotWorse &lt;= 0.5</text>\n",
       "<text text-anchor=\"middle\" x=\"3383.5\" y=\"-126.8\" font-family=\"Helvetica,sans-Serif\" font-size=\"14.00\">gini = 0.364</text>\n",
       "<text text-anchor=\"middle\" x=\"3383.5\" y=\"-111.8\" font-family=\"Helvetica,sans-Serif\" font-size=\"14.00\">samples = 46</text>\n",
       "<text text-anchor=\"middle\" x=\"3383.5\" y=\"-96.8\" font-family=\"Helvetica,sans-Serif\" font-size=\"14.00\">value = [11, 35]</text>\n",
       "</g>\n",
       "<!-- 43&#45;&gt;47 -->\n",
       "<g id=\"edge47\" class=\"edge\">\n",
       "<title>43&#45;&gt;47</title>\n",
       "<path fill=\"none\" stroke=\"black\" d=\"M3269.37,-192.88C3285.54,-183.12 3303.36,-172.37 3320.03,-162.31\"/>\n",
       "<polygon fill=\"black\" stroke=\"black\" points=\"3321.86,-165.29 3328.62,-157.12 3318.25,-159.3 3321.86,-165.29\"/>\n",
       "</g>\n",
       "<!-- 45 -->\n",
       "<g id=\"node46\" class=\"node\">\n",
       "<title>45</title>\n",
       "<polygon fill=\"none\" stroke=\"black\" points=\"3070,-53 2939,-53 2939,0 3070,0 3070,-53\"/>\n",
       "<text text-anchor=\"middle\" x=\"3004.5\" y=\"-37.8\" font-family=\"Helvetica,sans-Serif\" font-size=\"14.00\">gini = 0.458</text>\n",
       "<text text-anchor=\"middle\" x=\"3004.5\" y=\"-22.8\" font-family=\"Helvetica,sans-Serif\" font-size=\"14.00\">samples = 31</text>\n",
       "<text text-anchor=\"middle\" x=\"3004.5\" y=\"-7.8\" font-family=\"Helvetica,sans-Serif\" font-size=\"14.00\">value = [20, 11]</text>\n",
       "</g>\n",
       "<!-- 44&#45;&gt;45 -->\n",
       "<g id=\"edge45\" class=\"edge\">\n",
       "<title>44&#45;&gt;45</title>\n",
       "<path fill=\"none\" stroke=\"black\" d=\"M3009.05,-88.95C3008.44,-80.72 3007.79,-71.85 3007.17,-63.48\"/>\n",
       "<polygon fill=\"black\" stroke=\"black\" points=\"3010.64,-62.95 3006.41,-53.24 3003.65,-63.47 3010.64,-62.95\"/>\n",
       "</g>\n",
       "<!-- 46 -->\n",
       "<g id=\"node47\" class=\"node\">\n",
       "<title>46</title>\n",
       "<polygon fill=\"none\" stroke=\"black\" points=\"3201,-53 3088,-53 3088,0 3201,0 3201,-53\"/>\n",
       "<text text-anchor=\"middle\" x=\"3144.5\" y=\"-37.8\" font-family=\"Helvetica,sans-Serif\" font-size=\"14.00\">gini = 0.0</text>\n",
       "<text text-anchor=\"middle\" x=\"3144.5\" y=\"-22.8\" font-family=\"Helvetica,sans-Serif\" font-size=\"14.00\">samples = 4</text>\n",
       "<text text-anchor=\"middle\" x=\"3144.5\" y=\"-7.8\" font-family=\"Helvetica,sans-Serif\" font-size=\"14.00\">value = [0, 4]</text>\n",
       "</g>\n",
       "<!-- 44&#45;&gt;46 -->\n",
       "<g id=\"edge46\" class=\"edge\">\n",
       "<title>44&#45;&gt;46</title>\n",
       "<path fill=\"none\" stroke=\"black\" d=\"M3058.02,-88.95C3071.66,-79.25 3086.55,-68.68 3100.06,-59.07\"/>\n",
       "<polygon fill=\"black\" stroke=\"black\" points=\"3102.15,-61.88 3108.28,-53.24 3098.1,-56.18 3102.15,-61.88\"/>\n",
       "</g>\n",
       "<!-- 48 -->\n",
       "<g id=\"node49\" class=\"node\">\n",
       "<title>48</title>\n",
       "<polygon fill=\"none\" stroke=\"black\" points=\"3401,-53 3288,-53 3288,0 3401,0 3401,-53\"/>\n",
       "<text text-anchor=\"middle\" x=\"3344.5\" y=\"-37.8\" font-family=\"Helvetica,sans-Serif\" font-size=\"14.00\">gini = 0.49</text>\n",
       "<text text-anchor=\"middle\" x=\"3344.5\" y=\"-22.8\" font-family=\"Helvetica,sans-Serif\" font-size=\"14.00\">samples = 14</text>\n",
       "<text text-anchor=\"middle\" x=\"3344.5\" y=\"-7.8\" font-family=\"Helvetica,sans-Serif\" font-size=\"14.00\">value = [6, 8]</text>\n",
       "</g>\n",
       "<!-- 47&#45;&gt;48 -->\n",
       "<g id=\"edge48\" class=\"edge\">\n",
       "<title>47&#45;&gt;48</title>\n",
       "<path fill=\"none\" stroke=\"black\" d=\"M3369.86,-88.95C3366.35,-80.44 3362.56,-71.26 3359,-62.65\"/>\n",
       "<polygon fill=\"black\" stroke=\"black\" points=\"3362.17,-61.15 3355.12,-53.24 3355.7,-63.82 3362.17,-61.15\"/>\n",
       "</g>\n",
       "<!-- 49 -->\n",
       "<g id=\"node50\" class=\"node\">\n",
       "<title>49</title>\n",
       "<polygon fill=\"none\" stroke=\"black\" points=\"3541.5,-53 3419.5,-53 3419.5,0 3541.5,0 3541.5,-53\"/>\n",
       "<text text-anchor=\"middle\" x=\"3480.5\" y=\"-37.8\" font-family=\"Helvetica,sans-Serif\" font-size=\"14.00\">gini = 0.264</text>\n",
       "<text text-anchor=\"middle\" x=\"3480.5\" y=\"-22.8\" font-family=\"Helvetica,sans-Serif\" font-size=\"14.00\">samples = 32</text>\n",
       "<text text-anchor=\"middle\" x=\"3480.5\" y=\"-7.8\" font-family=\"Helvetica,sans-Serif\" font-size=\"14.00\">value = [5, 27]</text>\n",
       "</g>\n",
       "<!-- 47&#45;&gt;49 -->\n",
       "<g id=\"edge49\" class=\"edge\">\n",
       "<title>47&#45;&gt;49</title>\n",
       "<path fill=\"none\" stroke=\"black\" d=\"M3417.43,-88.95C3426.91,-79.71 3437.21,-69.67 3446.69,-60.44\"/>\n",
       "<polygon fill=\"black\" stroke=\"black\" points=\"3449.36,-62.72 3454.08,-53.24 3444.48,-57.71 3449.36,-62.72\"/>\n",
       "</g>\n",
       "<!-- 51 -->\n",
       "<g id=\"node52\" class=\"node\">\n",
       "<title>51</title>\n",
       "<polygon fill=\"none\" stroke=\"black\" points=\"3887.5,-157 3591.5,-157 3591.5,-89 3887.5,-89 3887.5,-157\"/>\n",
       "<text text-anchor=\"middle\" x=\"3739.5\" y=\"-141.8\" font-family=\"Helvetica,sans-Serif\" font-size=\"14.00\">NumberRealEstateLoansOrLines &lt;= 0.5</text>\n",
       "<text text-anchor=\"middle\" x=\"3739.5\" y=\"-126.8\" font-family=\"Helvetica,sans-Serif\" font-size=\"14.00\">gini = 0.375</text>\n",
       "<text text-anchor=\"middle\" x=\"3739.5\" y=\"-111.8\" font-family=\"Helvetica,sans-Serif\" font-size=\"14.00\">samples = 4</text>\n",
       "<text text-anchor=\"middle\" x=\"3739.5\" y=\"-96.8\" font-family=\"Helvetica,sans-Serif\" font-size=\"14.00\">value = [1, 3]</text>\n",
       "</g>\n",
       "<!-- 50&#45;&gt;51 -->\n",
       "<g id=\"edge51\" class=\"edge\">\n",
       "<title>50&#45;&gt;51</title>\n",
       "<path fill=\"none\" stroke=\"black\" d=\"M3739.5,-192.88C3739.5,-184.78 3739.5,-175.98 3739.5,-167.47\"/>\n",
       "<polygon fill=\"black\" stroke=\"black\" points=\"3743,-167.3 3739.5,-157.3 3736,-167.3 3743,-167.3\"/>\n",
       "</g>\n",
       "<!-- 54 -->\n",
       "<g id=\"node55\" class=\"node\">\n",
       "<title>54</title>\n",
       "<polygon fill=\"none\" stroke=\"black\" points=\"4173.5,-157 3905.5,-157 3905.5,-89 4173.5,-89 4173.5,-157\"/>\n",
       "<text text-anchor=\"middle\" x=\"4039.5\" y=\"-141.8\" font-family=\"Helvetica,sans-Serif\" font-size=\"14.00\">NumberOfTimes90DaysLate &lt;= 4.5</text>\n",
       "<text text-anchor=\"middle\" x=\"4039.5\" y=\"-126.8\" font-family=\"Helvetica,sans-Serif\" font-size=\"14.00\">gini = 0.32</text>\n",
       "<text text-anchor=\"middle\" x=\"4039.5\" y=\"-111.8\" font-family=\"Helvetica,sans-Serif\" font-size=\"14.00\">samples = 25</text>\n",
       "<text text-anchor=\"middle\" x=\"4039.5\" y=\"-96.8\" font-family=\"Helvetica,sans-Serif\" font-size=\"14.00\">value = [20, 5]</text>\n",
       "</g>\n",
       "<!-- 50&#45;&gt;54 -->\n",
       "<g id=\"edge54\" class=\"edge\">\n",
       "<title>50&#45;&gt;54</title>\n",
       "<path fill=\"none\" stroke=\"black\" d=\"M3836.9,-192.88C3867.52,-182.47 3901.49,-170.92 3932.73,-160.3\"/>\n",
       "<polygon fill=\"black\" stroke=\"black\" points=\"3933.99,-163.57 3942.33,-157.04 3931.74,-156.94 3933.99,-163.57\"/>\n",
       "</g>\n",
       "<!-- 52 -->\n",
       "<g id=\"node53\" class=\"node\">\n",
       "<title>52</title>\n",
       "<polygon fill=\"none\" stroke=\"black\" points=\"3703,-53 3590,-53 3590,0 3703,0 3703,-53\"/>\n",
       "<text text-anchor=\"middle\" x=\"3646.5\" y=\"-37.8\" font-family=\"Helvetica,sans-Serif\" font-size=\"14.00\">gini = 0.0</text>\n",
       "<text text-anchor=\"middle\" x=\"3646.5\" y=\"-22.8\" font-family=\"Helvetica,sans-Serif\" font-size=\"14.00\">samples = 1</text>\n",
       "<text text-anchor=\"middle\" x=\"3646.5\" y=\"-7.8\" font-family=\"Helvetica,sans-Serif\" font-size=\"14.00\">value = [1, 0]</text>\n",
       "</g>\n",
       "<!-- 51&#45;&gt;52 -->\n",
       "<g id=\"edge52\" class=\"edge\">\n",
       "<title>51&#45;&gt;52</title>\n",
       "<path fill=\"none\" stroke=\"black\" d=\"M3706.97,-88.95C3697.88,-79.71 3688,-69.67 3678.92,-60.44\"/>\n",
       "<polygon fill=\"black\" stroke=\"black\" points=\"3681.34,-57.91 3671.83,-53.24 3676.35,-62.82 3681.34,-57.91\"/>\n",
       "</g>\n",
       "<!-- 53 -->\n",
       "<g id=\"node54\" class=\"node\">\n",
       "<title>53</title>\n",
       "<polygon fill=\"none\" stroke=\"black\" points=\"3834,-53 3721,-53 3721,0 3834,0 3834,-53\"/>\n",
       "<text text-anchor=\"middle\" x=\"3777.5\" y=\"-37.8\" font-family=\"Helvetica,sans-Serif\" font-size=\"14.00\">gini = 0.0</text>\n",
       "<text text-anchor=\"middle\" x=\"3777.5\" y=\"-22.8\" font-family=\"Helvetica,sans-Serif\" font-size=\"14.00\">samples = 3</text>\n",
       "<text text-anchor=\"middle\" x=\"3777.5\" y=\"-7.8\" font-family=\"Helvetica,sans-Serif\" font-size=\"14.00\">value = [0, 3]</text>\n",
       "</g>\n",
       "<!-- 51&#45;&gt;53 -->\n",
       "<g id=\"edge53\" class=\"edge\">\n",
       "<title>51&#45;&gt;53</title>\n",
       "<path fill=\"none\" stroke=\"black\" d=\"M3752.79,-88.95C3756.21,-80.44 3759.9,-71.26 3763.37,-62.65\"/>\n",
       "<polygon fill=\"black\" stroke=\"black\" points=\"3766.67,-63.82 3767.15,-53.24 3760.17,-61.21 3766.67,-63.82\"/>\n",
       "</g>\n",
       "<!-- 55 -->\n",
       "<g id=\"node56\" class=\"node\">\n",
       "<title>55</title>\n",
       "<polygon fill=\"none\" stroke=\"black\" points=\"4032.5,-53 3910.5,-53 3910.5,0 4032.5,0 4032.5,-53\"/>\n",
       "<text text-anchor=\"middle\" x=\"3971.5\" y=\"-37.8\" font-family=\"Helvetica,sans-Serif\" font-size=\"14.00\">gini = 0.278</text>\n",
       "<text text-anchor=\"middle\" x=\"3971.5\" y=\"-22.8\" font-family=\"Helvetica,sans-Serif\" font-size=\"14.00\">samples = 24</text>\n",
       "<text text-anchor=\"middle\" x=\"3971.5\" y=\"-7.8\" font-family=\"Helvetica,sans-Serif\" font-size=\"14.00\">value = [20, 4]</text>\n",
       "</g>\n",
       "<!-- 54&#45;&gt;55 -->\n",
       "<g id=\"edge55\" class=\"edge\">\n",
       "<title>54&#45;&gt;55</title>\n",
       "<path fill=\"none\" stroke=\"black\" d=\"M4015.72,-88.95C4009.33,-80.07 4002.42,-70.46 3995.99,-61.54\"/>\n",
       "<polygon fill=\"black\" stroke=\"black\" points=\"3998.7,-59.31 3990.02,-53.24 3993.02,-63.4 3998.7,-59.31\"/>\n",
       "</g>\n",
       "<!-- 56 -->\n",
       "<g id=\"node57\" class=\"node\">\n",
       "<title>56</title>\n",
       "<polygon fill=\"none\" stroke=\"black\" points=\"4164,-53 4051,-53 4051,0 4164,0 4164,-53\"/>\n",
       "<text text-anchor=\"middle\" x=\"4107.5\" y=\"-37.8\" font-family=\"Helvetica,sans-Serif\" font-size=\"14.00\">gini = 0.0</text>\n",
       "<text text-anchor=\"middle\" x=\"4107.5\" y=\"-22.8\" font-family=\"Helvetica,sans-Serif\" font-size=\"14.00\">samples = 1</text>\n",
       "<text text-anchor=\"middle\" x=\"4107.5\" y=\"-7.8\" font-family=\"Helvetica,sans-Serif\" font-size=\"14.00\">value = [0, 1]</text>\n",
       "</g>\n",
       "<!-- 54&#45;&gt;56 -->\n",
       "<g id=\"edge56\" class=\"edge\">\n",
       "<title>54&#45;&gt;56</title>\n",
       "<path fill=\"none\" stroke=\"black\" d=\"M4063.28,-88.95C4069.67,-80.07 4076.58,-70.46 4083.01,-61.54\"/>\n",
       "<polygon fill=\"black\" stroke=\"black\" points=\"4085.98,-63.4 4088.98,-53.24 4080.3,-59.31 4085.98,-63.4\"/>\n",
       "</g>\n",
       "</g>\n",
       "</svg>\n"
      ],
      "text/plain": [
       "<graphviz.sources.Source at 0x7f86ac135340>"
      ]
     },
     "execution_count": 15,
     "metadata": {},
     "output_type": "execute_result"
    }
   ],
   "source": [
    "!pip install graphviz\n",
    "from graphviz import Source\n",
    "from sklearn import tree\n",
    "Source(tree.export_graphviz(decision_tree, out_file=None, feature_names=training_X.columns))"
   ]
  },
  {
   "cell_type": "code",
   "execution_count": 16,
   "metadata": {
    "colab": {},
    "colab_type": "code",
    "id": "q5XuE8LCRguD"
   },
   "outputs": [
    {
     "data": {
      "text/plain": [
       "KNeighborsClassifier()"
      ]
     },
     "execution_count": 16,
     "metadata": {},
     "output_type": "execute_result"
    }
   ],
   "source": [
    "# Construct k Nearest Neighbors model\n",
    "\n",
    "knn = KNeighborsClassifier(n_neighbors = 5)\n",
    "knn.fit(training_X, training_y)"
   ]
  },
  {
   "cell_type": "code",
   "execution_count": 17,
   "metadata": {
    "colab": {},
    "colab_type": "code",
    "id": "HSFOn2uFRguF"
   },
   "outputs": [
    {
     "name": "stdout",
     "output_type": "stream",
     "text": [
      "Training accuracy:\n",
      "\tDT accuracy:\t95.28%\n",
      "\tkNN accuracy:\t94.10%\n",
      "\tNumber of '0' labels:\t93.90%\n",
      "\n",
      "Test accuracy:\n",
      "\tDT accuarcy:\t92.88%\n",
      "\tkNN accuarcy:\t93.08%\n",
      "\tNumber of '0' labels:\t93.30%\n"
     ]
    }
   ],
   "source": [
    "print(\"Training accuracy:\")\n",
    "print(\"\\tDT accuracy:\\t%.2f%%\" % (100 * decision_tree.score(training_X, training_y)))\n",
    "print(\"\\tkNN accuracy:\\t%.2f%%\" % (100 * knn.score(training_X, training_y)))\n",
    "print(\"\\tNumber of '0' labels:\\t%.2f%%\" % (100 - 100 * np.mean(training_y)))\n",
    "print()\n",
    "\n",
    "print(\"Test accuracy:\")\n",
    "print(\"\\tDT accuarcy:\\t%.2f%%\" % (100 * decision_tree.score(test_X, test_y)))\n",
    "print(\"\\tkNN accuarcy:\\t%.2f%%\" % (100 * knn.score(test_X, test_y)))\n",
    "print(\"\\tNumber of '0' labels:\\t%.2f%%\" % (100 - 100 * np.mean(test_y)))"
   ]
  },
  {
   "cell_type": "code",
   "execution_count": 18,
   "metadata": {
    "colab": {},
    "colab_type": "code",
    "id": "MZzN4WBoRguH"
   },
   "outputs": [],
   "source": [
    "test_predictions_dt = decision_tree.predict(test_X)\n",
    "test_probabilities_dt = decision_tree.predict_proba(test_X)[:, 1]\n",
    "\n",
    "training_predictions_dt = decision_tree.predict(training_X)\n",
    "training_probabilities_dt = decision_tree.predict_proba(training_X)[:, 1]"
   ]
  },
  {
   "cell_type": "code",
   "execution_count": 19,
   "metadata": {
    "colab": {},
    "colab_type": "code",
    "id": "jPCXSNG9RguI"
   },
   "outputs": [],
   "source": [
    "test_predictions_knn = knn.predict(test_X)\n",
    "test_probabilities_knn = knn.predict_proba(test_X)[:, 1]\n",
    "\n",
    "training_predictions_knn = knn.predict(training_X)\n",
    "training_probabilities_knn = knn.predict_proba(training_X)[:, 1]"
   ]
  },
  {
   "cell_type": "code",
   "execution_count": 20,
   "metadata": {},
   "outputs": [
    {
     "data": {
      "text/plain": [
       "array([0.        , 0.01279381, 0.06024096, 0.08130081, 0.12631579,\n",
       "       0.16190476, 0.16666667, 0.22222222, 0.25      , 0.33333333,\n",
       "       0.35483871, 0.57142857, 0.66666667, 0.69230769, 0.8125    ,\n",
       "       0.84375   , 0.88888889, 1.        ])"
      ]
     },
     "execution_count": 20,
     "metadata": {},
     "output_type": "execute_result"
    }
   ],
   "source": [
    "np.unique(test_probabilities_dt)"
   ]
  },
  {
   "cell_type": "code",
   "execution_count": 21,
   "metadata": {},
   "outputs": [
    {
     "data": {
      "text/plain": [
       "array([0. , 0.2, 0.4, 0.6, 0.8])"
      ]
     },
     "execution_count": 21,
     "metadata": {},
     "output_type": "execute_result"
    }
   ],
   "source": [
    "np.unique(training_probabilities_knn)"
   ]
  },
  {
   "cell_type": "markdown",
   "metadata": {
    "_cell_guid": "26dd2732-b34f-4177-8786-8794537494e1",
    "colab_type": "text",
    "id": "3IstWq8gRguL"
   },
   "source": [
    "# Classification quality measures"
   ]
  },
  {
   "cell_type": "markdown",
   "metadata": {
    "colab_type": "text",
    "id": "3dScoO3hRguL"
   },
   "source": [
    "## Confusion matrix\n",
    "\n",
    "Confusion matrix is table layout that allows visualization of the performance of an algorithm. Rows of this matrix correspond to actual classes of the test set, columns correspond to predicted labels. There are 4 types of elements if predictions are given:\n",
    "* True Positive\n",
    "* False Negative\n",
    "* False Positive\n",
    "* True Negative\n",
    "\n",
    "| Variable | Predicted True | Predicted False |\n",
    "| ------------- |-------------|-----|\n",
    "| Actual True  | TP | FN | \n",
    "| Actual False | FP | TN |\n"
   ]
  },
  {
   "cell_type": "code",
   "execution_count": null,
   "metadata": {
    "colab": {},
    "colab_type": "code",
    "id": "rzywp8CWRguM"
   },
   "outputs": [],
   "source": [
    "confusion_dt = pd.DataFrame(confusion_matrix(test_y, test_predictions_dt))\n",
    "confusion_knn = pd.DataFrame(confusion_matrix(test_y, test_predictions_knn))\n",
    "\n",
    "print('Confusion for Decision Tree:')\n",
    "print(confusion_dt)\n",
    "print('Confusion for kNN:')\n",
    "print(confusion_knn)"
   ]
  },
  {
   "cell_type": "markdown",
   "metadata": {
    "colab_type": "text",
    "id": "YRDQ-Ad1RguN"
   },
   "source": [
    "If we want to compare metrics on different data, we can use instead True Positive Rate and False Positive Rate:\n",
    "* False Positive Rate is $\\frac{FP}{FP + TN}$\n",
    "* True  Positive Rate is $\\frac{TP}{TP + FN}$"
   ]
  },
  {
   "cell_type": "markdown",
   "metadata": {
    "colab_type": "text",
    "id": "On9BbPlLRguO"
   },
   "source": [
    "## ROC curve"
   ]
  },
  {
   "cell_type": "markdown",
   "metadata": {
    "colab_type": "text",
    "id": "9cxiJFHaRguO"
   },
   "source": [
    "ROC stands for *Receiver Operating Characteristic*. This curve shows True Positive Rate (**TPR**) against False Positive Rate (**FPR**) as classifier's discrimination threshold is varied\n",
    "\n",
    "Remember that classifiers are usually constructed based on some function\n",
    "$f(x) \\in [0, 1]$ and threshold $\\tau$:\n",
    "$$ \\text{Classifier}\\bigl(\\text{object}\\bigr)\n",
    "    = \\begin{cases}\n",
    "    1 & \\text{if}\\, f(\\text{object}) \\geq \\tau\\,,\\\\\n",
    "    0 & \\text{else}\\,.\n",
    "    \\end{cases}\n",
    "$$\n",
    "    \n",
    "**roc_curve** function from *scikit-learn* allows to easily obtain ROC curve points and **threshold** values."
   ]
  },
  {
   "cell_type": "markdown",
   "metadata": {
    "colab_type": "text",
    "id": "J0BwU2f9sSVa"
   },
   "source": [
    "Detailed description of ROC-AUC by Alexander Dyakonov (in Russian)\n",
    "https://dyakonov.org/2017/07/28/auc-roc-площадь-под-кривой-ошибок/"
   ]
  },
  {
   "cell_type": "code",
   "execution_count": null,
   "metadata": {
    "colab": {},
    "colab_type": "code",
    "id": "0ZS_9IRTRguO"
   },
   "outputs": [],
   "source": [
    "false_positive_rates_dt, true_positive_rates_dt, threshold_dt = roc_curve(test_y, test_probabilities_dt)\n",
    "false_positive_rates_knn, true_positive_rates_knn, threshold_knn = roc_curve(test_y, test_probabilities_knn)"
   ]
  },
  {
   "cell_type": "code",
   "execution_count": null,
   "metadata": {
    "colab": {},
    "colab_type": "code",
    "id": "FvDKLoNuRguP"
   },
   "outputs": [],
   "source": [
    "# create plot\n",
    "fig = plt.figure(figsize=(14, 7))\n",
    "\n",
    "# specify parameters for the first curve\n",
    "plot_1 = fig.add_subplot(121,\n",
    "                       xlabel=\"FPR\", xlim=(-.01, 1.01),\n",
    "                       ylabel=\"TPR\", ylim=(-.01, 1.01), title = 'Decision Tree')\n",
    "\n",
    "# draw the first curve\n",
    "plot_1.plot(false_positive_rates_dt, true_positive_rates_dt,\n",
    "          color='darkorange', lw=2, label = 'ROC-curve on test')\n",
    "plot_1.plot([0, 1], [0, 1], color='navy', lw=2, linestyle=':')\n",
    "plt.legend(loc=\"lower right\")\n",
    "\n",
    "# specify parameters for the second curve\n",
    "plot_2 = fig.add_subplot(122,\n",
    "                       xlabel=\"FPR\", xlim=(-.01, 1.01),\n",
    "                       ylabel=\"TPR\", ylim=(-.01, 1.01), title = 'k Nearest Neighbors')\n",
    "\n",
    "# draw the second curve\n",
    "plot_2.plot(false_positive_rates_knn, true_positive_rates_knn,\n",
    "          color='darkorange', lw=2, label = 'ROC-curve on test')\n",
    "plot_2.plot([0, 1], [0, 1], color='navy', lw=2, linestyle=':')\n",
    "plt.legend(loc=\"lower right\")\n",
    "\n",
    "plt.show()"
   ]
  },
  {
   "cell_type": "markdown",
   "metadata": {
    "colab_type": "text",
    "id": "abo7ybOJRguR"
   },
   "source": [
    "The closer **ROC** curve to the **upper left** corner, the better classification is.\n",
    "\n",
    "Despite being a good visual representation we usually need a number to make conclusions about calssification quality. In case of ROC curve this number is Area Under the Curve (**ROC-AUC**). \n",
    "\n",
    "*scikit-learn* has a special function **auc(...)**:"
   ]
  },
  {
   "cell_type": "code",
   "execution_count": null,
   "metadata": {
    "colab": {},
    "colab_type": "code",
    "id": "Ahg07oWIRguS"
   },
   "outputs": [],
   "source": [
    "roc_auc_dt = auc(false_positive_rates_dt, true_positive_rates_dt)\n",
    "roc_auc_knn = auc(false_positive_rates_knn, true_positive_rates_knn)\n",
    "\n",
    "print(\"DT ROC-AUC on test data:\", roc_auc_dt) \n",
    "print(\"kNN ROC-AUC on test data:\", roc_auc_knn) "
   ]
  },
  {
   "cell_type": "markdown",
   "metadata": {
    "colab_type": "text",
    "id": "nUDXlgKgRguU"
   },
   "source": [
    "For the training set ROC curve and ROC-AUC look much better."
   ]
  },
  {
   "cell_type": "code",
   "execution_count": null,
   "metadata": {
    "colab": {},
    "colab_type": "code",
    "id": "9tTlhOJBRguV"
   },
   "outputs": [],
   "source": [
    "training_false_positive_rates_dt, training_true_positive_rates_dt, _ = roc_curve(training_y, training_probabilities_dt)\n",
    "training_false_positive_rates_knn, training_true_positive_rates_knn, _ = roc_curve(training_y, training_probabilities_knn)\n",
    "\n",
    "training_roc_auc_dt = auc(training_false_positive_rates_dt, training_true_positive_rates_dt)\n",
    "training_roc_auc_knn = auc(training_false_positive_rates_knn, training_true_positive_rates_knn)\n",
    "\n",
    "print(\"DT ROC-AUC on training data:\", training_roc_auc_dt) \n",
    "print(\"kNN ROC-AUC on training data:\", training_roc_auc_knn) "
   ]
  },
  {
   "cell_type": "code",
   "execution_count": null,
   "metadata": {
    "colab": {},
    "colab_type": "code",
    "id": "-KxRefTVRguX"
   },
   "outputs": [],
   "source": [
    "fig = plt.figure(figsize=(14, 7))\n",
    "\n",
    "plot_1 = fig.add_subplot(121,\n",
    "                       xlabel=\"FPR\", xlim=(-.01, 1.01),\n",
    "                       ylabel=\"TPR\", ylim=(-.01, 1.01), title = 'Decision Tree')\n",
    "\n",
    "# draw the first curve\n",
    "plot_1.plot(training_false_positive_rates_dt, training_true_positive_rates_dt,\n",
    "          color='darkgreen', lw=2, label = 'ROC-curve on train (AUC = %0.2f)' % training_roc_auc_dt)\n",
    "plot_1.plot(false_positive_rates_dt, true_positive_rates_dt,\n",
    "          color='darkorange', lw=2, label = 'ROC-curve on test (AUC = %0.2f)' % roc_auc_dt)\n",
    "plot_1.plot([0, 1], [0, 1], color='navy', lw=2, linestyle=':')\n",
    "plt.legend(loc=\"lower right\")\n",
    "\n",
    "# specify parameters for the second curve\n",
    "plot_2 = fig.add_subplot(122,\n",
    "                       xlabel=\"FPR\", xlim=(-.01, 1.01),\n",
    "                       ylabel=\"TPR\", ylim=(-.01, 1.01), title = 'k Nearest Neighbors')\n",
    "\n",
    "# draw the second curve\n",
    "plot_2.plot(training_false_positive_rates_knn, training_true_positive_rates_knn,\n",
    "          color='darkgreen', lw=2, label = 'ROC-curve on train (AUC = %0.2f)' % training_roc_auc_knn)\n",
    "plot_2.plot(false_positive_rates_knn, true_positive_rates_knn,\n",
    "          color='darkorange', lw=2, label = 'ROC-curve on test (AUC = %0.2f)' % roc_auc_knn)\n",
    "plot_2.plot([0, 1], [0, 1], color='navy', lw=2, linestyle=':')\n",
    "plt.legend(loc=\"lower right\")\n",
    "\n",
    "plt.show()"
   ]
  },
  {
   "cell_type": "markdown",
   "metadata": {
    "colab_type": "text",
    "id": "BRQnjnG4sjjR"
   },
   "source": [
    "Another ROC-AUC visualization http://www.navan.name/roc/"
   ]
  },
  {
   "cell_type": "markdown",
   "metadata": {
    "colab_type": "text",
    "id": "w9qr6UUHs7zb"
   },
   "source": [
    "Area under ROC-curve = probability of pairs of objects from different classes being classified correctly."
   ]
  },
  {
   "cell_type": "markdown",
   "metadata": {
    "colab_type": "text",
    "id": "796Rlrj_ssrY"
   },
   "source": [
    "![alt text](https://alexanderdyakonov.files.wordpress.com/2017/07/eq.png)"
   ]
  },
  {
   "cell_type": "markdown",
   "metadata": {
    "colab_type": "text",
    "id": "x5Atd7ivMIv0"
   },
   "source": [
    "$a_i$ - prediction at $i$-th object, $y_i$ - target (class), $q$- number of objects in test"
   ]
  },
  {
   "cell_type": "markdown",
   "metadata": {
    "colab_type": "text",
    "id": "I_hnBlepRguZ"
   },
   "source": [
    "## Precision and Recall\n",
    "\n",
    "Precision and Recall are two other measures for evaluation of classification quality. Both of the metrics are calculated based on **confusion matrix**.\n",
    "\n",
    "<img src=\"https://raw.githubusercontent.com/adasegroup/ML2022_seminars/main/seminar3/figures/precision_recall.png\">\n",
    "\n",
    "Note that Recall equals to True Positive Rate."
   ]
  },
  {
   "cell_type": "markdown",
   "metadata": {
    "colab_type": "text",
    "id": "isniEjqiRguZ"
   },
   "source": [
    "Although \"accuracy\" and \"precision\" have very similar meanings, they are completely different metrics. Look how Precision and Recall are evaluated for k Nearest Neighbors classifier:"
   ]
  },
  {
   "cell_type": "code",
   "execution_count": null,
   "metadata": {
    "colab": {},
    "colab_type": "code",
    "id": "jI5lqz98Rgua"
   },
   "outputs": [],
   "source": [
    "confusion = confusion_matrix(test_y, test_predictions_knn)"
   ]
  },
  {
   "cell_type": "code",
   "execution_count": null,
   "metadata": {
    "colab": {},
    "colab_type": "code",
    "id": "p-L5cRvxRgub"
   },
   "outputs": [],
   "source": [
    "TN, FP = confusion[0, 0], confusion[0, 1]\n",
    "FN, TP = confusion[1, 0], confusion[1, 1]"
   ]
  },
  {
   "cell_type": "markdown",
   "metadata": {
    "colab_type": "text",
    "id": "OZ3xdtuPRgub"
   },
   "source": [
    "**Recall** of a classifier is equal to True Positive Rate **TPR** ($\\frac{TP}{TP + FN}$). This value may be interpreted as a sensitivity of a classifier to the objects with label `1`. If it is close to $100\\%$, then a classifier rarely \"miss\" the object of class `1`."
   ]
  },
  {
   "cell_type": "code",
   "execution_count": null,
   "metadata": {
    "colab": {},
    "colab_type": "code",
    "id": "_61uxNrGRguc"
   },
   "outputs": [],
   "source": [
    "recall = TP / (TP + FN)\n",
    "\n",
    "print(\"Recall: %.2f%%\" % (100 * recall))"
   ]
  },
  {
   "cell_type": "markdown",
   "metadata": {
    "colab_type": "text",
    "id": "3J1HymcdRgud"
   },
   "source": [
    "**Precision** -- is a fraction $\\frac{TP}{TP + FP}$. If this value is large, then a classifier assigns label `1` to objects with actual label `0` rarely.\n",
    "\n",
    "See how it is different to Accuracy = $\\frac{TP + TN}{TP + TN + FP + FN}$"
   ]
  },
  {
   "cell_type": "code",
   "execution_count": null,
   "metadata": {
    "colab": {},
    "colab_type": "code",
    "id": "rK4ZPgf0Rgud"
   },
   "outputs": [],
   "source": [
    "precision = TP / (TP + FP)\n",
    "\n",
    "print(\"Precision: %.2f%%\" % (100 * precision))"
   ]
  },
  {
   "cell_type": "markdown",
   "metadata": {
    "colab_type": "text",
    "id": "Tlths8-WRgue"
   },
   "source": [
    "A classifier with large Recall but small Precision produces many false positive predictions and tends to assign many `1` labels.\n",
    "\n",
    "Vice versa, if a classifier has small Recall but large Precision, then it detects class `1` accurately, but misses many objects (many false negative predictions)."
   ]
  },
  {
   "cell_type": "markdown",
   "metadata": {
    "colab_type": "text",
    "id": "mE6H_qHoRgue"
   },
   "source": [
    "### Precision-Recall curve"
   ]
  },
  {
   "cell_type": "markdown",
   "metadata": {
    "colab_type": "text",
    "id": "5cgp4cveRguf"
   },
   "source": [
    "In **precision-recall** space we may construct a curve similar to **ROC** curve in **FPR-TPR** space. PR curve also depicts the dependecy of Precision and Recall on threshold. *scikit* has the corresponding function: **precision_recall_curve(...)**.\n",
    "\n",
    "Let's calculate PR curve points.\n",
    "\n",
    "Note that unlike ROC curve, we cannot use interpolation for calculation of area under the curve. This may lead to larger values of the metric, which is not good. In this case we need to use **average_precision_score()** function instead of **auc()** function."
   ]
  },
  {
   "cell_type": "code",
   "execution_count": null,
   "metadata": {
    "colab": {},
    "colab_type": "code",
    "id": "TEIzrTmiRguf"
   },
   "outputs": [],
   "source": [
    "# generate values for Precision-Recall curve\n",
    "precision_dt, recall_dt, _ = precision_recall_curve(test_y, test_probabilities_dt)\n",
    "precision_knn, recall_knn, _ = precision_recall_curve(test_y, test_probabilities_knn)\n",
    "\n",
    "# calculate value under Precision-Recall curve\n",
    "pr_auc_dt = average_precision_score(test_y, test_probabilities_dt)\n",
    "pr_auc_knn = average_precision_score(test_y, test_probabilities_knn)\n",
    "\n",
    "print(\"DT PR-AUC on test data:\", pr_auc_dt) \n",
    "print(\"kNN PR-AUC on test data:\", pr_auc_knn)"
   ]
  },
  {
   "cell_type": "code",
   "execution_count": null,
   "metadata": {
    "colab": {},
    "colab_type": "code",
    "id": "ymsau0J_Rgug"
   },
   "outputs": [],
   "source": [
    "# generate values for training Precision Recall curve\n",
    "training_precision_dt, training_recall_dt, _ = precision_recall_curve(training_y, training_probabilities_dt)\n",
    "training_precision_knn, training_recall_knn, _ = precision_recall_curve(training_y, training_probabilities_knn)\n",
    "\n",
    "# TODO calculate value under precision-recall curve\n",
    "training_pr_auc_dt = average_precision_score(training_y, training_probabilities_dt)\n",
    "training_pr_auc_knn = average_precision_score(training_y, training_probabilities_knn)\n",
    "\n",
    "print(\"DT PR-AUC on training data:\", training_pr_auc_dt) \n",
    "print(\"kNN PR-AUC on training data:\", training_pr_auc_knn) "
   ]
  },
  {
   "cell_type": "code",
   "execution_count": null,
   "metadata": {
    "colab": {},
    "colab_type": "code",
    "id": "GflTFHKgRguh"
   },
   "outputs": [],
   "source": [
    "fig = plt.figure(figsize=(14, 7))\n",
    "\n",
    "plot_1 = fig.add_subplot(121,\n",
    "                       xlabel=\"Recall\", xlim=(-.01, 1.01),\n",
    "                       ylabel=\"Precision\", ylim=(-.01, 1.01), title = 'Decision Tree')\n",
    "\n",
    "plot_1.plot(training_recall_dt, training_precision_dt,\n",
    "          color='darkgreen', lw=2, label = 'PR-curve on train (AUC = %0.2f)' % training_pr_auc_dt)\n",
    "plot_1.plot(recall_dt, precision_dt,\n",
    "          color='darkorange', lw=2, label = 'PR-curve on test (AUC = %0.2f)' % pr_auc_dt)\n",
    "plt.legend(loc=\"upper right\")\n",
    "\n",
    "\n",
    "plot_2 = fig.add_subplot(122,\n",
    "                       xlabel=\"Recall\", xlim=(-.01, 1.01),\n",
    "                       ylabel=\"Precision\", ylim=(-.01, 1.01), title = 'k Nearest Neighbors')\n",
    "\n",
    "plot_2.plot(training_recall_knn, training_precision_knn,\n",
    "          color='darkgreen', lw=2, label = 'PR-curve on train (AUC = %0.2f)' % training_pr_auc_knn)\n",
    "plot_2.plot(recall_knn, precision_knn,\n",
    "          color='darkorange', lw=2, label = 'PR-curve on test (AUC = %0.2f)' % pr_auc_knn)\n",
    "plt.legend(loc=\"upper right\")\n",
    "\n",
    "plt.show()"
   ]
  },
  {
   "cell_type": "markdown",
   "metadata": {
    "colab_type": "text",
    "id": "L1M5pctyRgui"
   },
   "source": [
    "The closer **PR** curve to the **upper right** corner, the better classification is.\n",
    "\n",
    "Large AUC value means that Precision and Recall are also large. That means that classifier makes small number of both False Positives and False Negatives."
   ]
  },
  {
   "cell_type": "markdown",
   "metadata": {
    "colab_type": "text",
    "id": "d2yCJoE1Rgui"
   },
   "source": [
    "## F1 score\n",
    "\n",
    "This metric allows to take into account a different cost for False Positive Errors and False Negative Errors.\n",
    "\n",
    "General $F_\\beta$ score is defined as follows:\n",
    "$$\n",
    "F_\\beta = (1 + \\beta^2) \\frac{Precision \\cdot Recall}{\\beta^2 Precision + Recall} = \\frac{1 + \\beta^2}{\\frac{\\beta^2}{Recall} + \\frac{1}{Precision}}= \\frac{\\beta + \\beta^{-1}}{\\beta\\frac{1}{\\text{Recall}} + \\beta^{-1}\\frac{1}{\\text{Precision}}}\n",
    "    \\,.\n",
    "$$\n",
    "\n",
    "Most commonly used is $F_1$ score:\n",
    "$$\n",
    "F_1 = 2 \\frac{Precision \\cdot Recall}{Precision + Recall}\n",
    "$$\n",
    "\n",
    "Harmonic mean is used in order to make metric value very small when Precision or Recall is close to zero. Note that $F_1$ score doesn't describe how classifier works for True Negative results (**TN**)."
   ]
  },
  {
   "cell_type": "code",
   "execution_count": null,
   "metadata": {
    "colab": {},
    "colab_type": "code",
    "id": "n7QtQhePRgui"
   },
   "outputs": [],
   "source": [
    "print(\"DT F1 score on training data\", f1_score(training_y, training_predictions_dt))\n",
    "print(\"kNN F1 score on training data\", f1_score(training_y, training_predictions_knn))\n",
    "\n",
    "print(\"DT F1 score on test data\", f1_score(test_y, test_predictions_dt))\n",
    "print(\"kNN F1 score on test data\", f1_score(test_y, test_predictions_knn))"
   ]
  },
  {
   "cell_type": "markdown",
   "metadata": {
    "colab_type": "text",
    "id": "KUI4RS4iRguj"
   },
   "source": [
    "$F_1$ score is good for imbalanced classification, when a number of class `1` objects is **much** bigger than class `0` objects."
   ]
  },
  {
   "cell_type": "markdown",
   "metadata": {
    "colab_type": "text",
    "id": "BsvimD8oRguj"
   },
   "source": [
    "Let's compare **accuracy** and $F_1$ score of our classifiers with *random* classifier, which works as follows:\n",
    "\n",
    "* estimate probability $\\hat{p}$ of class `1` on training data (frequency of class `1` objects);\n",
    "* for every test object predict randomly:\n",
    "    * label `1` with probability $\\hat{p}$,\n",
    "    * label `0` with probability $1 - \\hat{p}$."
   ]
  },
  {
   "cell_type": "code",
   "execution_count": null,
   "metadata": {
    "colab": {},
    "colab_type": "code",
    "id": "N6jrY5vkRguk"
   },
   "outputs": [],
   "source": [
    "training_prob = sum(training_y) / len(training_y)\n",
    "random_predictions = np.random.binomial(1, training_prob, len(test_y))"
   ]
  },
  {
   "cell_type": "code",
   "execution_count": null,
   "metadata": {
    "colab": {},
    "colab_type": "code",
    "id": "cSnRWleIRguk"
   },
   "outputs": [],
   "source": [
    "print(\"Decision Tree accuracy\\t\\t\", accuracy_score(test_y, test_predictions_dt))\n",
    "print(\"kNN accuracy\\t\\t\\t\", accuracy_score(test_y, test_predictions_knn))\n",
    "print(\"Random classifier accuracy\\t\", accuracy_score(test_y, random_predictions))\n",
    "print('---')\n",
    "print(\"Decision Tree F1 score\\t\\t\", f1_score(test_y, test_predictions_dt))\n",
    "print(\"kNN F1 score\\t\\t\\t\", f1_score(test_y, test_predictions_knn))\n",
    "print(\"FRandom classifier F1 score\\t\", f1_score(test_y, random_predictions))"
   ]
  },
  {
   "cell_type": "markdown",
   "metadata": {
    "colab_type": "text",
    "id": "jR-2x26HRgul"
   },
   "source": [
    "# Exercise 1\n",
    "\n",
    "We have seen how some of classifiers work for this dataset. Now, try it yourself with Logistic Regression.\n",
    "\n",
    "* Fisrt, **import** **LogisticRegression()** function and train it on training data.\n",
    "* Then, calculate **ROC AUC**, **PR AUC** and **F1 score** on test data.\n",
    "* Try to change parameters to improve results.\n",
    "\n",
    "http://scikit-learn.org/stable/modules/generated/sklearn.linear_model.LogisticRegression.html"
   ]
  },
  {
   "cell_type": "code",
   "execution_count": null,
   "metadata": {
    "colab": {},
    "colab_type": "code",
    "id": "ohvRKx9ORgul"
   },
   "outputs": [],
   "source": [
    "from sklearn.linear_model import LogisticRegression"
   ]
  },
  {
   "cell_type": "code",
   "execution_count": null,
   "metadata": {
    "colab": {},
    "colab_type": "code",
    "id": "YcienmfPRgum"
   },
   "outputs": [],
   "source": [
    "logistic_regression = LogisticRegression(penalty = 'l2', C = 100.0, max_iter = 1000)\n",
    "logistic_regression.fit(training_X, training_y)"
   ]
  },
  {
   "cell_type": "code",
   "execution_count": null,
   "metadata": {
    "colab": {},
    "colab_type": "code",
    "id": "m78nGLR9Rgun"
   },
   "outputs": [],
   "source": [
    "test_predictions = logistic_regression.predict(test_X)\n",
    "test_probabilities = logistic_regression.predict_proba(test_X)[:, 1]\n",
    "false_positive_rates, true_positive_rates, threshold = roc_curve(test_y, test_probabilities)\n",
    "roc_auc = auc(false_positive_rates, true_positive_rates)"
   ]
  },
  {
   "cell_type": "code",
   "execution_count": null,
   "metadata": {
    "colab": {},
    "colab_type": "code",
    "id": "0qcHKkBTyps8"
   },
   "outputs": [],
   "source": [
    "print(roc_auc)"
   ]
  },
  {
   "cell_type": "code",
   "execution_count": null,
   "metadata": {
    "colab": {},
    "colab_type": "code",
    "id": "ox24hnYZyrFH"
   },
   "outputs": [],
   "source": [
    "precision, recall, _ = precision_recall_curve(test_y, test_probabilities)\n",
    "pr_auc = average_precision_score(test_y, test_probabilities)"
   ]
  },
  {
   "cell_type": "code",
   "execution_count": null,
   "metadata": {
    "colab": {},
    "colab_type": "code",
    "id": "pqxiJra7zd_1"
   },
   "outputs": [],
   "source": [
    "print(pr_auc)"
   ]
  },
  {
   "cell_type": "code",
   "execution_count": null,
   "metadata": {
    "colab": {},
    "colab_type": "code",
    "id": "gpWHbweHzggp"
   },
   "outputs": [],
   "source": [
    "print(f1_score(test_y, test_predictions))"
   ]
  },
  {
   "cell_type": "markdown",
   "metadata": {
    "colab_type": "text",
    "id": "a6TkioS4Rguo"
   },
   "source": [
    "# Cross-validation technique\n",
    "\n",
    "In many cases test sample is not available or we have a small dataset, and we have only one sample: a training one. The most popular approach in this case is **cross-validation**.\n",
    "\n",
    "The most common way is $k$-fold cross-validation. The idea is to divide training sample into $k$ blocks, one of them is treated as an artificial test sample and other $k-1$ are used for training.\n",
    "\n",
    "*scikit* has several functions for dividing data into folds and for performing automated cross-validation. One of those functions is **GridSearchCV()**.\n",
    "\n",
    "<img src=\"https://raw.githubusercontent.com/adasegroup/ML2022_seminars/main/seminar3/figures/5-fold-cv.png?raw=1\">"
   ]
  },
  {
   "cell_type": "code",
   "execution_count": null,
   "metadata": {
    "colab": {},
    "colab_type": "code",
    "id": "gYrK5jMjRguo"
   },
   "outputs": [],
   "source": [
    "from sklearn.model_selection import GridSearchCV"
   ]
  },
  {
   "cell_type": "code",
   "execution_count": null,
   "metadata": {
    "colab": {},
    "colab_type": "code",
    "id": "nyEK6VfhRgup"
   },
   "outputs": [],
   "source": [
    "parameters_knn = {'n_neighbors': [5, 10, 15, 20]}\n",
    "knn_cv = GridSearchCV(knn, param_grid = parameters_knn)\n",
    "knn_cv.fit(training_X, training_y)"
   ]
  },
  {
   "cell_type": "code",
   "execution_count": null,
   "metadata": {
    "colab": {},
    "colab_type": "code",
    "id": "R2Sx0OsQd7Bo"
   },
   "outputs": [],
   "source": [
    "knn_cv.best_params_"
   ]
  },
  {
   "cell_type": "code",
   "execution_count": null,
   "metadata": {
    "colab": {},
    "colab_type": "code",
    "id": "UsU_RBGXRgus"
   },
   "outputs": [],
   "source": [
    "predictions_knn_cv = knn_cv.predict(test_X)\n",
    "probabilities_knn_cv = knn_cv.predict_proba(test_X)[:,1]"
   ]
  },
  {
   "cell_type": "code",
   "execution_count": null,
   "metadata": {
    "colab": {},
    "colab_type": "code",
    "id": "qCaJEBADRgus"
   },
   "outputs": [],
   "source": [
    "false_positive_rates_knn_cv, true_positive_rates_knn_cv, _ = roc_curve(test_y, probabilities_knn_cv)\n",
    "roc_auc_knn_cv = auc(false_positive_rates_knn_cv, true_positive_rates_knn_cv)"
   ]
  },
  {
   "cell_type": "code",
   "execution_count": null,
   "metadata": {
    "colab": {},
    "colab_type": "code",
    "id": "t_O13F2iRgut"
   },
   "outputs": [],
   "source": [
    "precision_knn_cv, recall_knn_cv, _ = precision_recall_curve(test_y, probabilities_knn_cv)\n",
    "pr_auc_knn_cv = average_precision_score(test_y, probabilities_knn_cv)"
   ]
  },
  {
   "cell_type": "code",
   "execution_count": null,
   "metadata": {
    "colab": {},
    "colab_type": "code",
    "id": "8JqCy0TkRguu"
   },
   "outputs": [],
   "source": [
    "f1_knn_cv = f1_score(test_y, predictions_knn_cv)"
   ]
  },
  {
   "cell_type": "markdown",
   "metadata": {
    "colab_type": "text",
    "id": "WBayVmzeayJY"
   },
   "source": []
  },
  {
   "cell_type": "code",
   "execution_count": null,
   "metadata": {
    "colab": {},
    "colab_type": "code",
    "id": "8NZmrRQeRguv"
   },
   "outputs": [],
   "source": [
    "print('ROC AUC: ', roc_auc_knn_cv)\n",
    "print('PR AUC: ', pr_auc_knn_cv)\n",
    "print('F1_score: ', f1_knn_cv)"
   ]
  },
  {
   "cell_type": "code",
   "execution_count": null,
   "metadata": {
    "colab": {},
    "colab_type": "code",
    "id": "QkOJbuP3Rguv"
   },
   "outputs": [],
   "source": [
    "pd.DataFrame(confusion_matrix(test_y, predictions_knn_cv))"
   ]
  },
  {
   "cell_type": "markdown",
   "metadata": {
    "colab_type": "text",
    "id": "2ecCmIdSRguw"
   },
   "source": [
    "# Exercise 2\n",
    "\n",
    "Now we know how to perform cross-validation. Try it yourself with Decision Tree.\n",
    "\n",
    "* Using **GridSearchCV** choose parameter **min_samples_leaf**. Try several values from 1 to 100.\n",
    "* Use **five**-fold cross-validation and **roc_auc** scoring. See the chosen parameters.\n",
    "* Evaluate quality metrics and look how they changed. Try to make some plots.\n",
    "\n",
    "http://scikit-learn.org/stable/modules/generated/sklearn.tree.DecisionTreeClassifier.html\n",
    "\n",
    "http://scikit-learn.org/stable/modules/generated/sklearn.model_selection.GridSearchCV.html\n",
    "\n",
    "HINT https://scikit-learn.org/stable/modules/generated/sklearn.metrics.make_scorer.html"
   ]
  },
  {
   "cell_type": "code",
   "execution_count": null,
   "metadata": {
    "colab": {},
    "colab_type": "code",
    "id": "v-JGz42yUsLk"
   },
   "outputs": [],
   "source": [
    "from sklearn.metrics import roc_auc_score, make_scorer"
   ]
  },
  {
   "cell_type": "code",
   "execution_count": null,
   "metadata": {
    "colab": {},
    "colab_type": "code",
    "id": "0f_JsGQvRguw"
   },
   "outputs": [],
   "source": [
    "parameters_dt = {'min_samples_leaf' : [1, 2, 4, 8, 16, 32, 64, 128]}\n",
    "clf = DecisionTreeClassifier()\n",
    "dt_cv = GridSearchCV(clf, param_grid = parameters_dt, scoring=make_scorer(roc_auc_score), cv=5)\n",
    "dt_cv.fit(training_X, training_y)"
   ]
  },
  {
   "cell_type": "code",
   "execution_count": null,
   "metadata": {
    "colab": {},
    "colab_type": "code",
    "id": "EciDu8WjRgux"
   },
   "outputs": [],
   "source": [
    "dt_cv.best_params_"
   ]
  },
  {
   "cell_type": "code",
   "execution_count": null,
   "metadata": {
    "colab": {},
    "colab_type": "code",
    "id": "EGVWm9fFew3P"
   },
   "outputs": [],
   "source": [
    "dt_cv.best_score_"
   ]
  },
  {
   "cell_type": "code",
   "execution_count": null,
   "metadata": {
    "colab": {},
    "colab_type": "code",
    "id": "DE_FxkaaV1tW"
   },
   "outputs": [],
   "source": [
    "dt_cv.cv_results_"
   ]
  },
  {
   "cell_type": "code",
   "execution_count": null,
   "metadata": {
    "colab": {},
    "colab_type": "code",
    "id": "pCthViXOWFIA"
   },
   "outputs": [],
   "source": [
    "fig,ax=plt.subplots(1,1)\n",
    "plt.plot(dt_cv.cv_results_['param_min_samples_leaf'].data, dt_cv.cv_results_['mean_test_score'], axes = ax)\n",
    "ax.set_xlabel('min_samples_leaf')\n",
    "ax.set_ylabel('ROC AUC')"
   ]
  },
  {
   "cell_type": "markdown",
   "metadata": {
    "colab_type": "text",
    "id": "raCbonaXRguz"
   },
   "source": [
    "# Multiclass classification"
   ]
  },
  {
   "cell_type": "markdown",
   "metadata": {
    "colab_type": "text",
    "id": "UnMA4V91Rguz"
   },
   "source": [
    "Let's have a look how multiclass tasks are treated."
   ]
  },
  {
   "cell_type": "code",
   "execution_count": null,
   "metadata": {
    "colab": {},
    "colab_type": "code",
    "id": "MgxZfcduRguz"
   },
   "outputs": [],
   "source": [
    "# import some modules\n",
    "from sklearn.model_selection import train_test_split\n",
    "from sklearn.preprocessing import LabelEncoder\n",
    "from sklearn.base import clone\n",
    "from sklearn.linear_model import LogisticRegression\n",
    "import zipfile"
   ]
  },
  {
   "cell_type": "markdown",
   "metadata": {
    "colab_type": "text",
    "id": "QYuYzhKPRgu0"
   },
   "source": [
    "## Load data"
   ]
  },
  {
   "cell_type": "markdown",
   "metadata": {
    "colab_type": "text",
    "id": "7Ky3MohKRgu1"
   },
   "source": [
    "We will use data from Kaggle contest *\"Otto Group\n",
    "Product Classification Challenge\"*, which was created to predict class of an item by several features.\n",
    "\n",
    "https://www.kaggle.com/c/otto-group-product-classification-challenge\n",
    "\n",
    "Data are in ZIP, but we can load them easily"
   ]
  },
  {
   "cell_type": "code",
   "execution_count": null,
   "metadata": {
    "colab": {},
    "colab_type": "code",
    "id": "cFnNfzLoRgu1"
   },
   "outputs": [],
   "source": [
    "train_dataset = pd.read_csv('https://raw.githubusercontent.com/adasegroup/ML2022_seminars/master/seminar3/otto/train.csv', index_col='id')\n",
    "test_dataset = pd.read_csv('https://raw.githubusercontent.com/adasegroup/ML2022_seminars/master/seminar3/otto/test.cutted.csv', index_col='id')"
   ]
  },
  {
   "cell_type": "markdown",
   "metadata": {
    "colab_type": "text",
    "id": "FPqHmPCxRgu1"
   },
   "source": [
    "Data consist of the following:\n",
    "* **id** -- anonymized identifier;\n",
    "* **feat_1, ..., feat_93** -- features;\n",
    "* **target** -- actual class of an item."
   ]
  },
  {
   "cell_type": "markdown",
   "metadata": {
    "colab_type": "text",
    "id": "ueVKaFb4Rgu1"
   },
   "source": [
    "Number of objects for every class in **target**"
   ]
  },
  {
   "cell_type": "code",
   "execution_count": null,
   "metadata": {
    "colab": {},
    "colab_type": "code",
    "id": "X2EcbhnoRgu1"
   },
   "outputs": [],
   "source": [
    "train_dataset['target'].value_counts()"
   ]
  },
  {
   "cell_type": "code",
   "execution_count": null,
   "metadata": {
    "colab": {},
    "colab_type": "code",
    "id": "2r5agzoexIVe"
   },
   "outputs": [],
   "source": [
    "y = train_dataset[\"target\"]\n",
    "X = np.asarray(train_dataset.drop(\"target\", axis = 1))"
   ]
  },
  {
   "cell_type": "markdown",
   "metadata": {
    "colab_type": "text",
    "id": "r_oPMs0iRgu2"
   },
   "source": [
    "Let's see data description"
   ]
  },
  {
   "cell_type": "code",
   "execution_count": null,
   "metadata": {
    "colab": {},
    "colab_type": "code",
    "id": "2wOgXzk8Rgu2"
   },
   "outputs": [],
   "source": [
    "train_dataset.describe().T"
   ]
  },
  {
   "cell_type": "markdown",
   "metadata": {
    "colab_type": "text",
    "id": "GgyHdvdFRgu3"
   },
   "source": [
    "Divide data into input and output, transform labels from strings to numbers. **LabelEncoder** allows us to perform that transform nad obtain numbers from $0$ to $K-1$, where $K$ is the number of classes."
   ]
  },
  {
   "cell_type": "code",
   "execution_count": null,
   "metadata": {
    "colab": {},
    "colab_type": "code",
    "id": "wXjtlHH7wmXT"
   },
   "outputs": [],
   "source": [
    "import xgboost"
   ]
  },
  {
   "cell_type": "code",
   "execution_count": null,
   "metadata": {
    "colab": {},
    "colab_type": "code",
    "id": "9ucBjN3-wrmd"
   },
   "outputs": [],
   "source": [
    "xgb = xgboost.XGBClassifier(objective='multi:softprob')"
   ]
  },
  {
   "cell_type": "code",
   "execution_count": null,
   "metadata": {
    "colab": {},
    "colab_type": "code",
    "id": "4ifeaZF1wGql"
   },
   "outputs": [],
   "source": [
    "from sklearn.model_selection import train_test_split\n",
    "from sklearn.metrics import classification_report"
   ]
  },
  {
   "cell_type": "markdown",
   "metadata": {
    "colab_type": "text",
    "id": "0KysEGAkRgu3"
   },
   "source": [
    "Split data into training sample and test sample"
   ]
  },
  {
   "cell_type": "code",
   "execution_count": null,
   "metadata": {
    "colab": {},
    "colab_type": "code",
    "id": "QWEn1KRGRgu4"
   },
   "outputs": [],
   "source": [
    "split = train_test_split(X, y, test_size=0.5,\n",
    "                         random_state=42, stratify=y)\n",
    "train_X, test_X, train_y, test_y = split"
   ]
  },
  {
   "cell_type": "code",
   "execution_count": null,
   "metadata": {
    "colab": {},
    "colab_type": "code",
    "id": "qH2WZtDqyOUi"
   },
   "outputs": [],
   "source": [
    "xgb.fit(train_X, train_y)"
   ]
  },
  {
   "cell_type": "code",
   "execution_count": null,
   "metadata": {
    "colab": {},
    "colab_type": "code",
    "id": "BspFML4ky0-q"
   },
   "outputs": [],
   "source": [
    "test_preds = xgb.predict(test_X)"
   ]
  },
  {
   "cell_type": "code",
   "execution_count": null,
   "metadata": {
    "colab": {},
    "colab_type": "code",
    "id": "JB5hnvsby4ue"
   },
   "outputs": [],
   "source": [
    "accuracy_score(test_y, test_preds)"
   ]
  },
  {
   "cell_type": "code",
   "execution_count": null,
   "metadata": {
    "colab": {},
    "colab_type": "code",
    "id": "UckCZ9X-y6Cq"
   },
   "outputs": [],
   "source": [
    "confusion_matrix(test_y, test_preds)"
   ]
  },
  {
   "cell_type": "code",
   "execution_count": null,
   "metadata": {
    "colab": {},
    "colab_type": "code",
    "id": "IPzYZscA1FHI"
   },
   "outputs": [],
   "source": [
    "print(classification_report(test_y, test_preds))"
   ]
  }
 ],
 "metadata": {
  "_change_revision": 36,
  "_is_fork": false,
  "colab": {
   "name": "Seminar_3.ipynb",
   "provenance": []
  },
  "include_colab_link": true,
  "kernelspec": {
   "display_name": "Python 3 (ipykernel)",
   "language": "python",
   "name": "python3"
  },
  "language_info": {
   "codemirror_mode": {
    "name": "ipython",
    "version": 3
   },
   "file_extension": ".py",
   "mimetype": "text/x-python",
   "name": "python",
   "nbconvert_exporter": "python",
   "pygments_lexer": "ipython3",
   "version": "3.8.10"
  }
 },
 "nbformat": 4,
 "nbformat_minor": 4
}
